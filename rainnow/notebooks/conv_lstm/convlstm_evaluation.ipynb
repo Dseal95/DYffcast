{
 "cells": [
  {
   "cell_type": "markdown",
   "metadata": {},
   "source": [
    "## `ConvLSTM` Evaluation.\n",
    "* The aim of this notebook is to evaluate trained `ConvLSTM` models.\n",
    "\n",
    "* 2 evaluations take place in this NB, the first is an evaluation of the metrics on the entire sequence and the second is metrics `CSI` and `LPIPS` / time.\n",
    "\n",
    "* The `ConvLSTM` models in this NB are roll-out or next-step models. Please see `convlstm_inference_roll_out.ipynb` for more details. A single-shot ConvLSTM was experimented with in `convlstm_inference_one_shot.ipynb` but to make the sampling method more aligned to DYffusion, the roll-out was chosen."
   ]
  },
  {
   "cell_type": "code",
   "execution_count": 1,
   "metadata": {},
   "outputs": [
    {
     "name": "stderr",
     "output_type": "stream",
     "text": [
      "/home/zeus/miniconda3/envs/cloudspace/lib/python3.10/site-packages/tensordict/_pytree.py:147: UserWarning: torch.utils._pytree._register_pytree_node is deprecated. Please use torch.utils._pytree.register_pytree_node instead.\n",
      "  register_pytree_node(\n"
     ]
    }
   ],
   "source": [
    "import os\n",
    "from pathlib import Path\n",
    "from typing import Any, Dict, List, Tuple\n",
    "\n",
    "import matplotlib.pyplot as plt\n",
    "import numpy as np\n",
    "import pandas as pd\n",
    "import torch\n",
    "import torch.nn as nn\n",
    "import xarray as xr\n",
    "import xskillscore as xs\n",
    "from livelossplot import PlotLosses\n",
    "from matplotlib.colors import ListedColormap\n",
    "from scipy import io\n",
    "from torch.nn import L1Loss, MSELoss\n",
    "from torch.utils.data import DataLoader\n",
    "from torchmetrics.image import LearnedPerceptualImagePatchSimilarity as LPIPS\n",
    "from torchmetrics.regression import CriticalSuccessIndex\n",
    "from tqdm import tqdm\n",
    "\n",
    "from rainnow.src.conv_lstm_utils import (\n",
    "    IMERGDataset,\n",
    "    create_eval_loader,\n",
    "    plot_predicted_sequence,\n",
    "    save_checkpoint,\n",
    "    train,\n",
    "    validate,\n",
    ")\n",
    "from rainnow.src.loss import CBLoss, LPIPSMSELoss\n",
    "from rainnow.src.models.conv_lstm import ConvLSTMModel\n",
    "from rainnow.src.normalise import PreProcess\n",
    "from rainnow.src.utilities.loading import load_imerg_datamodule_from_config\n",
    "from rainnow.src.utilities.utils import (\n",
    "    get_device,\n",
    "    transform_0_1_to_minus1_1,\n",
    "    transform_minus1_1_to_0_1,\n",
    ")"
   ]
  },
  {
   "cell_type": "markdown",
   "metadata": {},
   "source": [
    "#### `helpers`"
   ]
  },
  {
   "cell_type": "code",
   "execution_count": 4,
   "metadata": {},
   "outputs": [
    {
     "name": "stdout",
     "output_type": "stream",
     "text": [
      "Cuda installed! Running on GPU! (device = cuda)\n"
     ]
    }
   ],
   "source": [
    "# ** DIR helpers **\n",
    "BASE_PATH = \"/teamspace/studios/this_studio\"\n",
    "\n",
    "CKPT_BASE_PATH = f\"{BASE_PATH}/DYffcast/rainnow/results/\"\n",
    "CONFIGS_BASE_PATH = f\"{BASE_PATH}/DYffcast/rainnow/src/dyffusion/configs/\"\n",
    "\n",
    "CKPT_DIR = \"checkpoints\"\n",
    "CKPT_CFG_NAME = \"hparams.yaml\"\n",
    "DATAMODULE_CONFIG_NAME = \"imerg_precipitation.yaml\"\n",
    "# whether or not to get last.ckpt or to get the \"best model\" ckpt (the other one in the folder).\n",
    "GET_LAST = False\n",
    "\n",
    "# ** Dataloader Params **\n",
    "BATCH_SIZE = 12\n",
    "NUM_WORKERS = 0\n",
    "\n",
    "INPUT_SEQUENCE_LENGTH = 4\n",
    "OUTPUT_SEQUENCE_LENGTH = 1\n",
    "\n",
    "# ** plotting helpers **\n",
    "# cmap = io.loadmat(\"../../src/utilities/cmaps/colormap.mat\")\n",
    "cmap = io.loadmat(f\"{BASE_PATH}/DYffcast/rainnow/src/utilities/cmaps/colormap.mat\")\n",
    "rain_cmap = ListedColormap(cmap[\"Cmap_rain\"])\n",
    "global_params = {\"font.size\": 8}  # , \"font.family\": \"Times New Roman\"}\n",
    "plt_params = {\"wspace\": 0.1, \"hspace\": 0.15}\n",
    "ylabel_params = {\"ha\": \"right\", \"va\": \"bottom\", \"labelpad\": 1, \"fontsize\": 7.5}\n",
    "\n",
    "# ** get device **\n",
    "device = get_device()"
   ]
  },
  {
   "cell_type": "markdown",
   "metadata": {},
   "source": [
    "#### `Instantiate + Load in the datamodule`"
   ]
  },
  {
   "cell_type": "code",
   "execution_count": 5,
   "metadata": {},
   "outputs": [
    {
     "name": "stderr",
     "output_type": "stream",
     "text": [
      "[2024-11-28 09:34:37][imerg_precipitation.py][INFO] --> training, validation & test using 4 (i, j) boxes: ['0,0', '1,0', '2,0', '2,1'].\n",
      "[2024-11-28 09:34:37][imerg_precipitation.py][INFO] --> test data split: [202307010000, 202401010000]\n"
     ]
    },
    {
     "name": "stderr",
     "output_type": "stream",
     "text": [
      "[2024-11-28 09:34:41][torch_datasets.py][INFO] --> creating TEST tensor dataset.\n",
      "[2024-11-28 09:34:41][normalise.py][INFO] --> pprocessing w/ percentiles (1st, 99th): [0.0, 5.670000076293945],  (min, max): [0.0, 3.23434630590838]\n",
      "[2024-11-28 09:34:42][abstract_datamodule.py][INFO] -->  Dataset test size: 979\n"
     ]
    }
   ],
   "source": [
    "datamodule = load_imerg_datamodule_from_config(\n",
    "    cfg_base_path=CONFIGS_BASE_PATH,\n",
    "    cfg_name=DATAMODULE_CONFIG_NAME,\n",
    "    overrides={\n",
    "        \"boxes\": [\"0,0\", \"1,0\", \"2,0\", \"2,1\"],\n",
    "        \"window\": 1,\n",
    "        \"horizon\": 8,\n",
    "        \"prediction_horizon\": 8,\n",
    "        \"sequence_dt\": 1,\n",
    "    },\n",
    ")\n",
    "\n",
    "datamodule.setup(\"test\")"
   ]
  },
  {
   "cell_type": "markdown",
   "metadata": {},
   "source": [
    "#### `Create the test_dataset`"
   ]
  },
  {
   "cell_type": "code",
   "execution_count": 6,
   "metadata": {},
   "outputs": [],
   "source": [
    "# create the datasets.\n",
    "test_dataset = IMERGDataset(\n",
    "    datamodule, \"test\", sequence_length=INPUT_SEQUENCE_LENGTH, target_length=OUTPUT_SEQUENCE_LENGTH\n",
    ")\n",
    "\n",
    "test_loader = DataLoader(\n",
    "    dataset=test_dataset, batch_size=BATCH_SIZE, num_workers=NUM_WORKERS, shuffle=False\n",
    ")"
   ]
  },
  {
   "cell_type": "markdown",
   "metadata": {},
   "source": [
    "#### `Instantiate the preprocessor object`"
   ]
  },
  {
   "cell_type": "code",
   "execution_count": 7,
   "metadata": {},
   "outputs": [
    {
     "name": "stderr",
     "output_type": "stream",
     "text": [
      "[2024-11-28 09:34:42][normalise.py][INFO] --> pprocessing w/ percentiles (1st, 99th): [0.0, 5.670000076293945],  (min, max): [0.0, 3.23434630590838]\n"
     ]
    }
   ],
   "source": [
    "# ** instantiate the preprocesser obj **\n",
    "pprocessor = PreProcess(\n",
    "    percentiles=datamodule.normalization_hparams[\"percentiles\"],\n",
    "    minmax=datamodule.normalization_hparams[\"min_max\"],\n",
    ")"
   ]
  },
  {
   "cell_type": "markdown",
   "metadata": {},
   "source": [
    "#### `Get Metrics`"
   ]
  },
  {
   "cell_type": "code",
   "execution_count": 8,
   "metadata": {},
   "outputs": [],
   "source": [
    "# instantiate metrics.\n",
    "lpips = LPIPS(reduction=\"mean\", normalize=True).to(\n",
    "    device\n",
    ")  # set to True so that the function normalises to [-1, 1].\n",
    "mse = MSELoss(reduction=\"mean\")\n",
    "csi_nodes = [2, 10, 18]\n",
    "# need to get the nodes to the same scale as the data. See NB:  imerg_rainfall_classes.ipynb for rain classes + distributions.\n",
    "normed_csi_nodes = pprocessor.apply_preprocessing(np.array(csi_nodes))\n",
    "csi2 = CriticalSuccessIndex(threshold=normed_csi_nodes[0]).to(device)\n",
    "csi10 = CriticalSuccessIndex(threshold=normed_csi_nodes[1]).to(device)\n",
    "csi18 = CriticalSuccessIndex(threshold=normed_csi_nodes[-1]).to(device)"
   ]
  },
  {
   "cell_type": "markdown",
   "metadata": {},
   "source": [
    "#### `Evaluation Metrics (entire predictions)`"
   ]
  },
  {
   "cell_type": "code",
   "execution_count": 9,
   "metadata": {},
   "outputs": [
    {
     "name": "stdout",
     "output_type": "stream",
     "text": [
      "** eval loader (INFO) **\n",
      "Num samples = 1221 w/ dims: torch.Size([12, 1, 128, 128])\n",
      "\n"
     ]
    }
   ],
   "source": [
    "# ** create the eval dataloader **\n",
    "eval_loader, _ = create_eval_loader(\n",
    "    data_loader=test_loader, horizon=8, input_sequence_length=4, img_dims=(128, 128)\n",
    ")"
   ]
  },
  {
   "cell_type": "code",
   "execution_count": 10,
   "metadata": {},
   "outputs": [],
   "source": [
    "# ConvLSTM params (make sure that they match up with the model checkpoint).\n",
    "KERNEL_SIZE = (5, 5)\n",
    "INPUT_DIMS = (1, 128, 128)  # C, H, W\n",
    "OUTPUT_CHANNELS = 1\n",
    "HIDDEN_CHANNELS = [128, 128]\n",
    "NUM_LAYERS = 2\n",
    "CELL_DROPOUT = 0.15"
   ]
  },
  {
   "cell_type": "code",
   "execution_count": 13,
   "metadata": {},
   "outputs": [],
   "source": [
    "# conv lstm models to evaluate.\n",
    "conv_lstm_models = {\n",
    "    # ** LCB Loss **\n",
    "    \"convlstm-abcd1234\": (\n",
    "        \"I4:T1 | hs=(128, 128), ks=(5, 5), dp=.15 [20E, lr=3e-4] BS=12 LPIPS.\",\n",
    "        nn.Tanh(),\n",
    "    ),\n",
    "    \"conv_lstm_f1dlb0m7\": (\n",
    "        \"I4:T1 | hs=(128, 128), ks=(5, 5), dp=.4 [30E, lr=7e-5] BS=12 reversal=15% LPIPS.\",\n",
    "        nn.Tanh(),\n",
    "    ),\n",
    "    \"conv_lstm_9h86gnt5\": (\n",
    "        \"I4:T1 | hs=(128, 128), ks=(5, 5), dp=.40 [20E, lr=7e-5] BS=12 reveral=20% LPIPS.\",\n",
    "        nn.Tanh(),\n",
    "    ),\n",
    "    \"conv_lstm_wwj6eryz\": (\n",
    "        \"I4:T1 | hs=(128, 128), ks=(5, 5), dp=.40 [10E, lr=7e-5] BS=12 reveral=20% LPIPS.\",\n",
    "        nn.Tanh(),\n",
    "    ),\n",
    "    \"conv_lstm_i93g6pzb\": (\n",
    "        \"I4:T1 | hs=(128, 128), ks=(5, 5), dp=.45 [10E, lr=3e-4] BS=24 reveral=20% LPIPS.\",\n",
    "        nn.Tanh(),\n",
    "    ),\n",
    "    # ** BCE Loss **\n",
    "    \"convlstm-a8kwo8jx\": (\n",
    "        \"I4:T1 | hs=(128, 128), ks=(5, 5), dp=.15 [20E, lr=3e-4] BS=12 BCE.\",\n",
    "        nn.Sigmoid(),\n",
    "    ),\n",
    "    \"conv_lstm_k34y14il\": (\n",
    "        \"I4:T1 | hs=(128, 128), ks=(5, 5), dp=.4 [10E, lr=7e-5] BS=12 BCE.\",\n",
    "        nn.Sigmoid(),\n",
    "    ),\n",
    "}"
   ]
  },
  {
   "cell_type": "code",
   "execution_count": 14,
   "metadata": {},
   "outputs": [
    {
     "name": "stdout",
     "output_type": "stream",
     "text": [
      "Loading model ckpt from /teamspace/studios/this_studio/convlstm-abcd1234.pt.\n",
      "Instantiating model w/ output activation = Tanh().\n"
     ]
    },
    {
     "name": "stderr",
     "output_type": "stream",
     "text": [
      "Evaluating model convlstm-abcd1234: 100%|██████████| 1221/1221 [03:48<00:00,  5.34it/s]\n"
     ]
    },
    {
     "name": "stdout",
     "output_type": "stream",
     "text": [
      "Loading model ckpt from /teamspace/studios/this_studio/conv_lstm_f1dlb0m7.pt.\n",
      "Instantiating model w/ output activation = Tanh().\n"
     ]
    },
    {
     "name": "stderr",
     "output_type": "stream",
     "text": [
      "Evaluating model conv_lstm_f1dlb0m7: 100%|██████████| 1221/1221 [03:48<00:00,  5.34it/s]\n"
     ]
    },
    {
     "name": "stdout",
     "output_type": "stream",
     "text": [
      "Loading model ckpt from /teamspace/studios/this_studio/conv_lstm_9h86gnt5.pt.\n",
      "Instantiating model w/ output activation = Tanh().\n"
     ]
    },
    {
     "name": "stderr",
     "output_type": "stream",
     "text": [
      "Evaluating model conv_lstm_9h86gnt5: 100%|██████████| 1221/1221 [03:49<00:00,  5.33it/s]\n"
     ]
    },
    {
     "name": "stdout",
     "output_type": "stream",
     "text": [
      "Loading model ckpt from /teamspace/studios/this_studio/conv_lstm_wwj6eryz.pt.\n",
      "Instantiating model w/ output activation = Tanh().\n"
     ]
    },
    {
     "name": "stderr",
     "output_type": "stream",
     "text": [
      "Evaluating model conv_lstm_wwj6eryz: 100%|██████████| 1221/1221 [03:43<00:00,  5.47it/s]\n"
     ]
    },
    {
     "name": "stdout",
     "output_type": "stream",
     "text": [
      "Loading model ckpt from /teamspace/studios/this_studio/conv_lstm_i93g6pzb.pt.\n",
      "Instantiating model w/ output activation = Tanh().\n"
     ]
    },
    {
     "name": "stderr",
     "output_type": "stream",
     "text": [
      "Evaluating model conv_lstm_i93g6pzb: 100%|██████████| 1221/1221 [03:47<00:00,  5.37it/s]\n"
     ]
    },
    {
     "name": "stdout",
     "output_type": "stream",
     "text": [
      "Loading model ckpt from /teamspace/studios/this_studio/convlstm-a8kwo8jx.pt.\n",
      "Instantiating model w/ output activation = Sigmoid().\n"
     ]
    },
    {
     "name": "stderr",
     "output_type": "stream",
     "text": [
      "Evaluating model convlstm-a8kwo8jx: 100%|██████████| 1221/1221 [03:46<00:00,  5.39it/s]\n"
     ]
    },
    {
     "name": "stdout",
     "output_type": "stream",
     "text": [
      "Loading model ckpt from /teamspace/studios/this_studio/conv_lstm_k34y14il.pt.\n",
      "Instantiating model w/ output activation = Sigmoid().\n"
     ]
    },
    {
     "name": "stderr",
     "output_type": "stream",
     "text": [
      "Evaluating model conv_lstm_k34y14il: 100%|██████████| 1221/1221 [03:43<00:00,  5.45it/s]\n"
     ]
    },
    {
     "data": {
      "text/html": [
       "<div>\n",
       "<style scoped>\n",
       "    .dataframe tbody tr th:only-of-type {\n",
       "        vertical-align: middle;\n",
       "    }\n",
       "\n",
       "    .dataframe tbody tr th {\n",
       "        vertical-align: top;\n",
       "    }\n",
       "\n",
       "    .dataframe thead th {\n",
       "        text-align: right;\n",
       "    }\n",
       "</style>\n",
       "<table border=\"1\" class=\"dataframe\">\n",
       "  <thead>\n",
       "    <tr style=\"text-align: right;\">\n",
       "      <th></th>\n",
       "      <th>MSE</th>\n",
       "      <th>lpips</th>\n",
       "      <th>csi2</th>\n",
       "      <th>csi10</th>\n",
       "      <th>csi18</th>\n",
       "    </tr>\n",
       "  </thead>\n",
       "  <tbody>\n",
       "    <tr>\n",
       "      <th>convlstm-abcd1234</th>\n",
       "      <td>0.008515</td>\n",
       "      <td>0.272168</td>\n",
       "      <td>0.139340</td>\n",
       "      <td>0.027360</td>\n",
       "      <td>0.010332</td>\n",
       "    </tr>\n",
       "    <tr>\n",
       "      <th>conv_lstm_f1dlb0m7</th>\n",
       "      <td>0.043557</td>\n",
       "      <td>0.363798</td>\n",
       "      <td>0.141904</td>\n",
       "      <td>0.022638</td>\n",
       "      <td>0.008237</td>\n",
       "    </tr>\n",
       "    <tr>\n",
       "      <th>conv_lstm_9h86gnt5</th>\n",
       "      <td>0.011890</td>\n",
       "      <td>0.335648</td>\n",
       "      <td>0.132495</td>\n",
       "      <td>0.030015</td>\n",
       "      <td>0.010908</td>\n",
       "    </tr>\n",
       "    <tr>\n",
       "      <th>conv_lstm_wwj6eryz</th>\n",
       "      <td>0.015996</td>\n",
       "      <td>0.306106</td>\n",
       "      <td>0.145382</td>\n",
       "      <td>0.028931</td>\n",
       "      <td>0.010627</td>\n",
       "    </tr>\n",
       "    <tr>\n",
       "      <th>conv_lstm_i93g6pzb</th>\n",
       "      <td>0.015239</td>\n",
       "      <td>0.323197</td>\n",
       "      <td>0.149694</td>\n",
       "      <td>0.030855</td>\n",
       "      <td>0.011330</td>\n",
       "    </tr>\n",
       "    <tr>\n",
       "      <th>convlstm-a8kwo8jx</th>\n",
       "      <td>0.006830</td>\n",
       "      <td>0.381121</td>\n",
       "      <td>0.145322</td>\n",
       "      <td>0.033976</td>\n",
       "      <td>0.012780</td>\n",
       "    </tr>\n",
       "    <tr>\n",
       "      <th>conv_lstm_k34y14il</th>\n",
       "      <td>0.005175</td>\n",
       "      <td>0.334931</td>\n",
       "      <td>0.164663</td>\n",
       "      <td>0.037835</td>\n",
       "      <td>0.015641</td>\n",
       "    </tr>\n",
       "  </tbody>\n",
       "</table>\n",
       "</div>"
      ],
      "text/plain": [
       "                         MSE     lpips      csi2     csi10     csi18\n",
       "convlstm-abcd1234   0.008515  0.272168  0.139340  0.027360  0.010332\n",
       "conv_lstm_f1dlb0m7  0.043557  0.363798  0.141904  0.022638  0.008237\n",
       "conv_lstm_9h86gnt5  0.011890  0.335648  0.132495  0.030015  0.010908\n",
       "conv_lstm_wwj6eryz  0.015996  0.306106  0.145382  0.028931  0.010627\n",
       "conv_lstm_i93g6pzb  0.015239  0.323197  0.149694  0.030855  0.011330\n",
       "convlstm-a8kwo8jx   0.006830  0.381121  0.145322  0.033976  0.012780\n",
       "conv_lstm_k34y14il  0.005175  0.334931  0.164663  0.037835  0.015641"
      ]
     },
     "execution_count": 14,
     "metadata": {},
     "output_type": "execute_result"
    }
   ],
   "source": [
    "# ** evaluate 101 **\n",
    "eval_metrics = {}\n",
    "for ckpt_id, model_desc in conv_lstm_models.items():\n",
    "    # create the model ckpt path.\n",
    "    # ckpt_id_path = Path(os.path.join(CKPT_BASE_PATH, \"\", ckpt_id, \"checkpoints\", f\"{ckpt_id}.pt\"))\n",
    "    ckpt_id_path = Path(os.path.join(BASE_PATH, f\"{ckpt_id}.pt\"))\n",
    "    print(f\"Loading model ckpt from {ckpt_id_path}.\")\n",
    "\n",
    "    OUTPUT_ACTIVATION = model_desc[-1]\n",
    "    print(f\"Instantiating model w/ output activation = {str(model_desc[-1])}.\")\n",
    "\n",
    "    # instantiate a new ConvLSTM model.\n",
    "    model = ConvLSTMModel(\n",
    "        input_sequence_length=INPUT_SEQUENCE_LENGTH,\n",
    "        output_sequence_length=OUTPUT_SEQUENCE_LENGTH,\n",
    "        input_dims=INPUT_DIMS,\n",
    "        hidden_channels=HIDDEN_CHANNELS,\n",
    "        output_channels=OUTPUT_CHANNELS,\n",
    "        num_layers=NUM_LAYERS,\n",
    "        kernel_size=KERNEL_SIZE,\n",
    "        output_activation=OUTPUT_ACTIVATION,\n",
    "        apply_batchnorm=True,\n",
    "        cell_dropout=CELL_DROPOUT,\n",
    "        bias=True,\n",
    "        device=device,\n",
    "    )\n",
    "    model = model.to(device)\n",
    "\n",
    "    # load in the checkpoint + set to eval() mode.\n",
    "    model.load_state_dict(\n",
    "        state_dict=torch.load(ckpt_id_path, map_location=torch.device(device))[\"model_state_dict\"]\n",
    "    )\n",
    "    model.eval()\n",
    "\n",
    "    # ** get preds / target pairs **\n",
    "    # loop through the custom eval_loader and get the predictions and targets for each X, target pair.\n",
    "    # at the end of this loop, you have a results list that contains [target, predictions] pairs.\n",
    "    with torch.no_grad():\n",
    "        results = []\n",
    "        for e, (X, target) in tqdm(\n",
    "            enumerate(eval_loader), total=len(eval_loader), desc=f\"Evaluating model {ckpt_id}\"\n",
    "        ):  # enumerate(eval_loader):\n",
    "            predictions = {}\n",
    "            _input = X.clone().unsqueeze(0).to(device)\n",
    "            for t in range(target.size(0)):\n",
    "                pred = model(_input)  # predict t+1\n",
    "                if isinstance(model.output_activation, nn.Tanh):\n",
    "                    pred = transform_minus1_1_to_0_1(pred)\n",
    "\n",
    "                # add t+i to the predictions.\n",
    "                predictions[f\"t{t+1}\"] = pred.squeeze(0)\n",
    "                # update the inputs with the last pred (auto-regressive rollout)\n",
    "                _input = torch.concat([_input[:, 1:, ...], pred], dim=1)\n",
    "\n",
    "            results.append([target, predictions])\n",
    "\n",
    "        # ** calculate metrics for each preds / target pair **\n",
    "        # reset metrics for eack ckpt id.\n",
    "        # overall metrics for target and prediction.\n",
    "        l2_score = 0\n",
    "        lpips_score = 0\n",
    "        csi2_score = 0  # low rain.\n",
    "        csi10_score = 0  # mid rain.\n",
    "        csi18_score = 0  # heavy rain.\n",
    "        for targets, predictions in results:\n",
    "            # concat to get entire sequence.\n",
    "            pred_seq = torch.cat([v for _, v in predictions.items()], dim=0)\n",
    "\n",
    "            # get metrics.\n",
    "            l2_score += mse(pred_seq.to(device), targets.to(device))\n",
    "            # lpips score. Inputs need to have 3 channels.\n",
    "            lpips_score += lpips(\n",
    "                torch.clamp(pred_seq.expand(-1, 3, -1, -1), 0, 1).to(device),\n",
    "                torch.clamp(targets.expand(-1, 3, -1, -1), 0, 1).to(device),\n",
    "            )\n",
    "            # csi score at different thresholds.\n",
    "            csi2_score += csi2(pred_seq.to(device), targets.to(device))\n",
    "            csi10_score += csi10(pred_seq.to(device), targets.to(device))\n",
    "            csi18_score += csi18(pred_seq.to(device), targets.to(device))\n",
    "\n",
    "        eval_metrics[ckpt_id] = {\n",
    "            \"MSE\": l2_score.item() / len(eval_loader),\n",
    "            \"lpips\": lpips_score.item() / len(eval_loader),\n",
    "            \"csi2\": csi2_score.item() / len(eval_loader),\n",
    "            \"csi10\": csi10_score.item() / len(eval_loader),\n",
    "            \"csi18\": csi18_score.item() / len(eval_loader),\n",
    "        }\n",
    "\n",
    "# create df, format it and export it to a .csv.\n",
    "df_results = pd.DataFrame(eval_metrics).T\n",
    "df_results[[\"MSE\", \"lpips\", \"csi2\", \"csi10\", \"csi18\"]]"
   ]
  },
  {
   "cell_type": "markdown",
   "metadata": {},
   "source": [
    "#### `Eval Metrics (CSI + LPIPS / t)` "
   ]
  },
  {
   "cell_type": "code",
   "execution_count": 15,
   "metadata": {},
   "outputs": [
    {
     "name": "stdout",
     "output_type": "stream",
     "text": [
      "Loading model ckpt from /teamspace/studios/this_studio/convlstm-abcd1234.pt.\n",
      "Instantiating model w/ output activation = Tanh().\n"
     ]
    },
    {
     "name": "stderr",
     "output_type": "stream",
     "text": [
      "Evaluating model convlstm-abcd1234: 100%|██████████| 1221/1221 [03:43<00:00,  5.47it/s]\n"
     ]
    },
    {
     "name": "stdout",
     "output_type": "stream",
     "text": [
      "Loading model ckpt from /teamspace/studios/this_studio/conv_lstm_f1dlb0m7.pt.\n",
      "Instantiating model w/ output activation = Tanh().\n"
     ]
    },
    {
     "name": "stderr",
     "output_type": "stream",
     "text": [
      "Evaluating model conv_lstm_f1dlb0m7: 100%|██████████| 1221/1221 [03:41<00:00,  5.52it/s]\n"
     ]
    },
    {
     "name": "stdout",
     "output_type": "stream",
     "text": [
      "Loading model ckpt from /teamspace/studios/this_studio/conv_lstm_9h86gnt5.pt.\n",
      "Instantiating model w/ output activation = Tanh().\n"
     ]
    },
    {
     "name": "stderr",
     "output_type": "stream",
     "text": [
      "Evaluating model conv_lstm_9h86gnt5: 100%|██████████| 1221/1221 [03:44<00:00,  5.45it/s]\n"
     ]
    },
    {
     "name": "stdout",
     "output_type": "stream",
     "text": [
      "Loading model ckpt from /teamspace/studios/this_studio/conv_lstm_wwj6eryz.pt.\n",
      "Instantiating model w/ output activation = Tanh().\n"
     ]
    },
    {
     "name": "stderr",
     "output_type": "stream",
     "text": [
      "Evaluating model conv_lstm_wwj6eryz: 100%|██████████| 1221/1221 [03:52<00:00,  5.26it/s]\n"
     ]
    },
    {
     "name": "stdout",
     "output_type": "stream",
     "text": [
      "Loading model ckpt from /teamspace/studios/this_studio/conv_lstm_i93g6pzb.pt.\n",
      "Instantiating model w/ output activation = Tanh().\n"
     ]
    },
    {
     "name": "stderr",
     "output_type": "stream",
     "text": [
      "Evaluating model conv_lstm_i93g6pzb: 100%|██████████| 1221/1221 [03:37<00:00,  5.61it/s]\n"
     ]
    },
    {
     "name": "stdout",
     "output_type": "stream",
     "text": [
      "Loading model ckpt from /teamspace/studios/this_studio/convlstm-a8kwo8jx.pt.\n",
      "Instantiating model w/ output activation = Sigmoid().\n"
     ]
    },
    {
     "name": "stderr",
     "output_type": "stream",
     "text": [
      "Evaluating model convlstm-a8kwo8jx: 100%|██████████| 1221/1221 [03:46<00:00,  5.40it/s]\n"
     ]
    },
    {
     "name": "stdout",
     "output_type": "stream",
     "text": [
      "Loading model ckpt from /teamspace/studios/this_studio/conv_lstm_k34y14il.pt.\n",
      "Instantiating model w/ output activation = Sigmoid().\n"
     ]
    },
    {
     "name": "stderr",
     "output_type": "stream",
     "text": [
      "Evaluating model conv_lstm_k34y14il: 100%|██████████| 1221/1221 [03:51<00:00,  5.27it/s]\n"
     ]
    }
   ],
   "source": [
    "eval_metrics_per_t = {}\n",
    "for ckpt_id, model_desc in conv_lstm_models.items():\n",
    "    # create the model ckpt path.\n",
    "    # ckpt_id_path = Path(os.path.join(CKPT_BASE_PATH, \"\", ckpt_id, \"checkpoints\", f\"{ckpt_id}.pt\"))\n",
    "    ckpt_id_path = Path(os.path.join(BASE_PATH, f\"{ckpt_id}.pt\"))\n",
    "    print(f\"Loading model ckpt from {ckpt_id_path}.\")\n",
    "\n",
    "    OUTPUT_ACTIVATION = model_desc[-1]\n",
    "    print(f\"Instantiating model w/ output activation = {str(model_desc[-1])}.\")\n",
    "\n",
    "    # instantiate a new ConvLSTM model.\n",
    "    model = ConvLSTMModel(\n",
    "        input_sequence_length=INPUT_SEQUENCE_LENGTH,\n",
    "        output_sequence_length=OUTPUT_SEQUENCE_LENGTH,\n",
    "        input_dims=INPUT_DIMS,\n",
    "        hidden_channels=HIDDEN_CHANNELS,\n",
    "        output_channels=OUTPUT_CHANNELS,\n",
    "        num_layers=NUM_LAYERS,\n",
    "        kernel_size=KERNEL_SIZE,\n",
    "        output_activation=OUTPUT_ACTIVATION,\n",
    "        apply_batchnorm=True,\n",
    "        cell_dropout=CELL_DROPOUT,\n",
    "        bias=True,\n",
    "        device=device,\n",
    "    )\n",
    "    model = model.to(device)\n",
    "\n",
    "    # load in the checkpoint + set to eval() mode.\n",
    "    model.load_state_dict(\n",
    "        state_dict=torch.load(ckpt_id_path, map_location=torch.device(device))[\"model_state_dict\"]\n",
    "    )\n",
    "    model.eval()\n",
    "\n",
    "    # ** get preds / target pairs **\n",
    "    # loop through the custom eval_loader and get the predictions and targets for each X, target pair.\n",
    "    # at the end of this loop, you have a results list that contains [target, predictions] pairs.\n",
    "    with torch.no_grad():\n",
    "        results = []\n",
    "        for e, (X, target) in tqdm(\n",
    "            enumerate(eval_loader), total=len(eval_loader), desc=f\"Evaluating model {ckpt_id}\"\n",
    "        ):  # enumerate(eval_loader):\n",
    "            predictions = {}\n",
    "            _input = X.clone().unsqueeze(0).to(device)\n",
    "            for t in range(target.size(0)):\n",
    "                pred = model(_input)  # predict t+1\n",
    "                if isinstance(model.output_activation, nn.Tanh):\n",
    "                    pred = transform_minus1_1_to_0_1(pred)\n",
    "\n",
    "                # add t+i to the predictions.\n",
    "                predictions[f\"t{t+1}\"] = pred.squeeze(0)\n",
    "                # update the inputs with the last pred (auto-regressive rollout)\n",
    "                _input = torch.concat([_input[:, 1:, ...], pred], dim=1)\n",
    "\n",
    "            results.append([target, predictions])\n",
    "\n",
    "        # create csi stores.\n",
    "        csi2_score_t = torch.zeros(target.size(0)).to(device)\n",
    "        csi10_score_t = torch.zeros(target.size(0)).to(device)\n",
    "        csi18_score_t = torch.zeros(target.size(0)).to(device)\n",
    "\n",
    "        # perceptual loss scores.\n",
    "        lpips_score_t = torch.zeros(target.size(0)).to(device)\n",
    "\n",
    "        for targets, predictions in results:\n",
    "            for e, (k, v) in enumerate(predictions.items()):\n",
    "                # loop through all the ts and compute the relevant CSI scores.\n",
    "                csi2_score_t[e] += csi2(targets[e].to(device), v[0, ...].to(device))\n",
    "                csi10_score_t[e] += csi10(targets[e].to(device), v[0, ...].to(device))\n",
    "                csi18_score_t[e] += csi18(targets[e].to(device), v[0, ...].to(device))\n",
    "\n",
    "                lpips_score_t[e] += lpips(\n",
    "                    torch.clamp(targets[e].expand(1, 3, -1, -1), 0, 1).to(device),\n",
    "                    torch.clamp(v[0, ...].expand(1, 3, -1, -1), 0, 1).to(device),\n",
    "                )\n",
    "\n",
    "        # normalise the scores.\n",
    "        eval_metrics_per_t[ckpt_id] = {\n",
    "            \"csi2_t\": csi2_score_t / len(eval_loader),\n",
    "            \"csi10_t\": csi10_score_t / len(eval_loader),\n",
    "            \"csi18_t\": csi18_score_t / len(eval_loader),\n",
    "            \"lpips_t\": lpips_score_t / len(eval_loader),\n",
    "        }"
   ]
  },
  {
   "cell_type": "code",
   "execution_count": 16,
   "metadata": {},
   "outputs": [],
   "source": [
    "horizon = 8\n",
    "\n",
    "# get csi + lpips dfs.\n",
    "df_all = {}\n",
    "for k, v in eval_metrics_per_t.items():\n",
    "    dfs = {}\n",
    "    for metric, values in v.items():\n",
    "        dfs[metric] = pd.DataFrame(\n",
    "            data=[[i.item() for i in values]], columns=[f\"t{i+1}\" for i in range(len(values))]\n",
    "        )\n",
    "    df_all[k] = dfs\n",
    "\n",
    "df_csi2 = pd.DataFrame(columns=[f\"t{i+1}\" for i in range(horizon)])\n",
    "df_csi10 = pd.DataFrame(columns=[f\"t{i+1}\" for i in range(horizon)])\n",
    "df_csi18 = pd.DataFrame(columns=[f\"t{i+1}\" for i in range(horizon)])\n",
    "df_lpips = pd.DataFrame(columns=[f\"t{i+1}\" for i in range(horizon)])\n",
    "\n",
    "for model_name, metrics in df_all.items():\n",
    "    model_name_clean = model_name.rsplit(\".\", 1)[0]\n",
    "\n",
    "    csi2_values = metrics[\"csi2_t\"].iloc[0].values\n",
    "    csi10_values = metrics[\"csi10_t\"].iloc[0].values\n",
    "    csi18_values = metrics[\"csi18_t\"].iloc[0].values\n",
    "    lpips_values = metrics[\"lpips_t\"].iloc[0].values\n",
    "\n",
    "    df_csi2.loc[model_name_clean] = csi2_values\n",
    "    df_csi10.loc[model_name_clean] = csi10_values\n",
    "    df_csi18.loc[model_name_clean] = csi18_values\n",
    "    df_lpips.loc[model_name_clean] = lpips_values"
   ]
  },
  {
   "cell_type": "code",
   "execution_count": 17,
   "metadata": {},
   "outputs": [
    {
     "data": {
      "text/html": [
       "<div>\n",
       "<style scoped>\n",
       "    .dataframe tbody tr th:only-of-type {\n",
       "        vertical-align: middle;\n",
       "    }\n",
       "\n",
       "    .dataframe tbody tr th {\n",
       "        vertical-align: top;\n",
       "    }\n",
       "\n",
       "    .dataframe thead th {\n",
       "        text-align: right;\n",
       "    }\n",
       "</style>\n",
       "<table border=\"1\" class=\"dataframe\">\n",
       "  <thead>\n",
       "    <tr style=\"text-align: right;\">\n",
       "      <th></th>\n",
       "      <th>t1</th>\n",
       "      <th>t2</th>\n",
       "      <th>t3</th>\n",
       "      <th>t4</th>\n",
       "      <th>t5</th>\n",
       "      <th>t6</th>\n",
       "      <th>t7</th>\n",
       "      <th>t8</th>\n",
       "    </tr>\n",
       "  </thead>\n",
       "  <tbody>\n",
       "    <tr>\n",
       "      <th>convlstm-abcd1234</th>\n",
       "      <td>0.409545</td>\n",
       "      <td>0.256894</td>\n",
       "      <td>0.177189</td>\n",
       "      <td>0.132172</td>\n",
       "      <td>0.101844</td>\n",
       "      <td>0.088881</td>\n",
       "      <td>0.079038</td>\n",
       "      <td>0.070007</td>\n",
       "    </tr>\n",
       "    <tr>\n",
       "      <th>conv_lstm_f1dlb0m7</th>\n",
       "      <td>0.395652</td>\n",
       "      <td>0.264934</td>\n",
       "      <td>0.211360</td>\n",
       "      <td>0.161144</td>\n",
       "      <td>0.125066</td>\n",
       "      <td>0.107537</td>\n",
       "      <td>0.092847</td>\n",
       "      <td>0.083068</td>\n",
       "    </tr>\n",
       "    <tr>\n",
       "      <th>conv_lstm_9h86gnt5</th>\n",
       "      <td>0.343507</td>\n",
       "      <td>0.223668</td>\n",
       "      <td>0.170193</td>\n",
       "      <td>0.127173</td>\n",
       "      <td>0.093653</td>\n",
       "      <td>0.078596</td>\n",
       "      <td>0.066404</td>\n",
       "      <td>0.056264</td>\n",
       "    </tr>\n",
       "    <tr>\n",
       "      <th>conv_lstm_wwj6eryz</th>\n",
       "      <td>0.346521</td>\n",
       "      <td>0.237239</td>\n",
       "      <td>0.200770</td>\n",
       "      <td>0.152150</td>\n",
       "      <td>0.115731</td>\n",
       "      <td>0.100271</td>\n",
       "      <td>0.085675</td>\n",
       "      <td>0.074499</td>\n",
       "    </tr>\n",
       "    <tr>\n",
       "      <th>conv_lstm_i93g6pzb</th>\n",
       "      <td>0.354462</td>\n",
       "      <td>0.241240</td>\n",
       "      <td>0.204958</td>\n",
       "      <td>0.157583</td>\n",
       "      <td>0.114171</td>\n",
       "      <td>0.099549</td>\n",
       "      <td>0.085553</td>\n",
       "      <td>0.072522</td>\n",
       "    </tr>\n",
       "    <tr>\n",
       "      <th>convlstm-a8kwo8jx</th>\n",
       "      <td>0.382280</td>\n",
       "      <td>0.256391</td>\n",
       "      <td>0.184229</td>\n",
       "      <td>0.136087</td>\n",
       "      <td>0.102651</td>\n",
       "      <td>0.085727</td>\n",
       "      <td>0.071334</td>\n",
       "      <td>0.059770</td>\n",
       "    </tr>\n",
       "    <tr>\n",
       "      <th>conv_lstm_k34y14il</th>\n",
       "      <td>0.431672</td>\n",
       "      <td>0.293206</td>\n",
       "      <td>0.219680</td>\n",
       "      <td>0.165703</td>\n",
       "      <td>0.127074</td>\n",
       "      <td>0.108157</td>\n",
       "      <td>0.091020</td>\n",
       "      <td>0.077188</td>\n",
       "    </tr>\n",
       "  </tbody>\n",
       "</table>\n",
       "</div>"
      ],
      "text/plain": [
       "                          t1        t2        t3        t4        t5  \\\n",
       "convlstm-abcd1234   0.409545  0.256894  0.177189  0.132172  0.101844   \n",
       "conv_lstm_f1dlb0m7  0.395652  0.264934  0.211360  0.161144  0.125066   \n",
       "conv_lstm_9h86gnt5  0.343507  0.223668  0.170193  0.127173  0.093653   \n",
       "conv_lstm_wwj6eryz  0.346521  0.237239  0.200770  0.152150  0.115731   \n",
       "conv_lstm_i93g6pzb  0.354462  0.241240  0.204958  0.157583  0.114171   \n",
       "convlstm-a8kwo8jx   0.382280  0.256391  0.184229  0.136087  0.102651   \n",
       "conv_lstm_k34y14il  0.431672  0.293206  0.219680  0.165703  0.127074   \n",
       "\n",
       "                          t6        t7        t8  \n",
       "convlstm-abcd1234   0.088881  0.079038  0.070007  \n",
       "conv_lstm_f1dlb0m7  0.107537  0.092847  0.083068  \n",
       "conv_lstm_9h86gnt5  0.078596  0.066404  0.056264  \n",
       "conv_lstm_wwj6eryz  0.100271  0.085675  0.074499  \n",
       "conv_lstm_i93g6pzb  0.099549  0.085553  0.072522  \n",
       "convlstm-a8kwo8jx   0.085727  0.071334  0.059770  \n",
       "conv_lstm_k34y14il  0.108157  0.091020  0.077188  "
      ]
     },
     "execution_count": 17,
     "metadata": {},
     "output_type": "execute_result"
    }
   ],
   "source": [
    "df_csi2"
   ]
  },
  {
   "cell_type": "code",
   "execution_count": 18,
   "metadata": {},
   "outputs": [
    {
     "data": {
      "text/html": [
       "<div>\n",
       "<style scoped>\n",
       "    .dataframe tbody tr th:only-of-type {\n",
       "        vertical-align: middle;\n",
       "    }\n",
       "\n",
       "    .dataframe tbody tr th {\n",
       "        vertical-align: top;\n",
       "    }\n",
       "\n",
       "    .dataframe thead th {\n",
       "        text-align: right;\n",
       "    }\n",
       "</style>\n",
       "<table border=\"1\" class=\"dataframe\">\n",
       "  <thead>\n",
       "    <tr style=\"text-align: right;\">\n",
       "      <th></th>\n",
       "      <th>t1</th>\n",
       "      <th>t2</th>\n",
       "      <th>t3</th>\n",
       "      <th>t4</th>\n",
       "      <th>t5</th>\n",
       "      <th>t6</th>\n",
       "      <th>t7</th>\n",
       "      <th>t8</th>\n",
       "    </tr>\n",
       "  </thead>\n",
       "  <tbody>\n",
       "    <tr>\n",
       "      <th>convlstm-abcd1234</th>\n",
       "      <td>0.196756</td>\n",
       "      <td>0.085387</td>\n",
       "      <td>0.047304</td>\n",
       "      <td>0.030812</td>\n",
       "      <td>0.021354</td>\n",
       "      <td>0.016173</td>\n",
       "      <td>0.013719</td>\n",
       "      <td>0.011601</td>\n",
       "    </tr>\n",
       "    <tr>\n",
       "      <th>conv_lstm_f1dlb0m7</th>\n",
       "      <td>0.153633</td>\n",
       "      <td>0.063025</td>\n",
       "      <td>0.040696</td>\n",
       "      <td>0.027660</td>\n",
       "      <td>0.019865</td>\n",
       "      <td>0.016451</td>\n",
       "      <td>0.013659</td>\n",
       "      <td>0.011927</td>\n",
       "    </tr>\n",
       "    <tr>\n",
       "      <th>conv_lstm_9h86gnt5</th>\n",
       "      <td>0.138102</td>\n",
       "      <td>0.061805</td>\n",
       "      <td>0.040662</td>\n",
       "      <td>0.029726</td>\n",
       "      <td>0.020899</td>\n",
       "      <td>0.016101</td>\n",
       "      <td>0.012788</td>\n",
       "      <td>0.010402</td>\n",
       "    </tr>\n",
       "    <tr>\n",
       "      <th>conv_lstm_wwj6eryz</th>\n",
       "      <td>0.138549</td>\n",
       "      <td>0.063507</td>\n",
       "      <td>0.044933</td>\n",
       "      <td>0.031876</td>\n",
       "      <td>0.022694</td>\n",
       "      <td>0.018159</td>\n",
       "      <td>0.014990</td>\n",
       "      <td>0.012627</td>\n",
       "    </tr>\n",
       "    <tr>\n",
       "      <th>conv_lstm_i93g6pzb</th>\n",
       "      <td>0.147087</td>\n",
       "      <td>0.064601</td>\n",
       "      <td>0.043774</td>\n",
       "      <td>0.032007</td>\n",
       "      <td>0.022987</td>\n",
       "      <td>0.018818</td>\n",
       "      <td>0.015808</td>\n",
       "      <td>0.012907</td>\n",
       "    </tr>\n",
       "    <tr>\n",
       "      <th>convlstm-a8kwo8jx</th>\n",
       "      <td>0.163104</td>\n",
       "      <td>0.081930</td>\n",
       "      <td>0.050999</td>\n",
       "      <td>0.033489</td>\n",
       "      <td>0.023991</td>\n",
       "      <td>0.018729</td>\n",
       "      <td>0.014805</td>\n",
       "      <td>0.011701</td>\n",
       "    </tr>\n",
       "    <tr>\n",
       "      <th>conv_lstm_k34y14il</th>\n",
       "      <td>0.203662</td>\n",
       "      <td>0.089252</td>\n",
       "      <td>0.051320</td>\n",
       "      <td>0.031776</td>\n",
       "      <td>0.022753</td>\n",
       "      <td>0.018286</td>\n",
       "      <td>0.014581</td>\n",
       "      <td>0.011754</td>\n",
       "    </tr>\n",
       "  </tbody>\n",
       "</table>\n",
       "</div>"
      ],
      "text/plain": [
       "                          t1        t2        t3        t4        t5  \\\n",
       "convlstm-abcd1234   0.196756  0.085387  0.047304  0.030812  0.021354   \n",
       "conv_lstm_f1dlb0m7  0.153633  0.063025  0.040696  0.027660  0.019865   \n",
       "conv_lstm_9h86gnt5  0.138102  0.061805  0.040662  0.029726  0.020899   \n",
       "conv_lstm_wwj6eryz  0.138549  0.063507  0.044933  0.031876  0.022694   \n",
       "conv_lstm_i93g6pzb  0.147087  0.064601  0.043774  0.032007  0.022987   \n",
       "convlstm-a8kwo8jx   0.163104  0.081930  0.050999  0.033489  0.023991   \n",
       "conv_lstm_k34y14il  0.203662  0.089252  0.051320  0.031776  0.022753   \n",
       "\n",
       "                          t6        t7        t8  \n",
       "convlstm-abcd1234   0.016173  0.013719  0.011601  \n",
       "conv_lstm_f1dlb0m7  0.016451  0.013659  0.011927  \n",
       "conv_lstm_9h86gnt5  0.016101  0.012788  0.010402  \n",
       "conv_lstm_wwj6eryz  0.018159  0.014990  0.012627  \n",
       "conv_lstm_i93g6pzb  0.018818  0.015808  0.012907  \n",
       "convlstm-a8kwo8jx   0.018729  0.014805  0.011701  \n",
       "conv_lstm_k34y14il  0.018286  0.014581  0.011754  "
      ]
     },
     "execution_count": 18,
     "metadata": {},
     "output_type": "execute_result"
    }
   ],
   "source": [
    "df_csi10"
   ]
  },
  {
   "cell_type": "code",
   "execution_count": 19,
   "metadata": {},
   "outputs": [
    {
     "data": {
      "text/html": [
       "<div>\n",
       "<style scoped>\n",
       "    .dataframe tbody tr th:only-of-type {\n",
       "        vertical-align: middle;\n",
       "    }\n",
       "\n",
       "    .dataframe tbody tr th {\n",
       "        vertical-align: top;\n",
       "    }\n",
       "\n",
       "    .dataframe thead th {\n",
       "        text-align: right;\n",
       "    }\n",
       "</style>\n",
       "<table border=\"1\" class=\"dataframe\">\n",
       "  <thead>\n",
       "    <tr style=\"text-align: right;\">\n",
       "      <th></th>\n",
       "      <th>t1</th>\n",
       "      <th>t2</th>\n",
       "      <th>t3</th>\n",
       "      <th>t4</th>\n",
       "      <th>t5</th>\n",
       "      <th>t6</th>\n",
       "      <th>t7</th>\n",
       "      <th>t8</th>\n",
       "    </tr>\n",
       "  </thead>\n",
       "  <tbody>\n",
       "    <tr>\n",
       "      <th>convlstm-abcd1234</th>\n",
       "      <td>0.119986</td>\n",
       "      <td>0.045686</td>\n",
       "      <td>0.020388</td>\n",
       "      <td>0.012271</td>\n",
       "      <td>0.008481</td>\n",
       "      <td>0.006303</td>\n",
       "      <td>0.004930</td>\n",
       "      <td>0.004102</td>\n",
       "    </tr>\n",
       "    <tr>\n",
       "      <th>conv_lstm_f1dlb0m7</th>\n",
       "      <td>0.082886</td>\n",
       "      <td>0.027547</td>\n",
       "      <td>0.016282</td>\n",
       "      <td>0.010519</td>\n",
       "      <td>0.007398</td>\n",
       "      <td>0.005987</td>\n",
       "      <td>0.004994</td>\n",
       "      <td>0.004269</td>\n",
       "    </tr>\n",
       "    <tr>\n",
       "      <th>conv_lstm_9h86gnt5</th>\n",
       "      <td>0.075541</td>\n",
       "      <td>0.025412</td>\n",
       "      <td>0.015594</td>\n",
       "      <td>0.011031</td>\n",
       "      <td>0.007806</td>\n",
       "      <td>0.005767</td>\n",
       "      <td>0.004526</td>\n",
       "      <td>0.003646</td>\n",
       "    </tr>\n",
       "    <tr>\n",
       "      <th>conv_lstm_wwj6eryz</th>\n",
       "      <td>0.081394</td>\n",
       "      <td>0.028186</td>\n",
       "      <td>0.017909</td>\n",
       "      <td>0.011986</td>\n",
       "      <td>0.008567</td>\n",
       "      <td>0.006621</td>\n",
       "      <td>0.005343</td>\n",
       "      <td>0.004582</td>\n",
       "    </tr>\n",
       "    <tr>\n",
       "      <th>conv_lstm_i93g6pzb</th>\n",
       "      <td>0.086424</td>\n",
       "      <td>0.028502</td>\n",
       "      <td>0.017626</td>\n",
       "      <td>0.011863</td>\n",
       "      <td>0.008592</td>\n",
       "      <td>0.006863</td>\n",
       "      <td>0.005648</td>\n",
       "      <td>0.004532</td>\n",
       "    </tr>\n",
       "    <tr>\n",
       "      <th>convlstm-a8kwo8jx</th>\n",
       "      <td>0.092420</td>\n",
       "      <td>0.039859</td>\n",
       "      <td>0.021583</td>\n",
       "      <td>0.012946</td>\n",
       "      <td>0.009399</td>\n",
       "      <td>0.006943</td>\n",
       "      <td>0.005406</td>\n",
       "      <td>0.004080</td>\n",
       "    </tr>\n",
       "    <tr>\n",
       "      <th>conv_lstm_k34y14il</th>\n",
       "      <td>0.100361</td>\n",
       "      <td>0.029523</td>\n",
       "      <td>0.013243</td>\n",
       "      <td>0.008495</td>\n",
       "      <td>0.006383</td>\n",
       "      <td>0.005630</td>\n",
       "      <td>0.004465</td>\n",
       "      <td>0.003583</td>\n",
       "    </tr>\n",
       "  </tbody>\n",
       "</table>\n",
       "</div>"
      ],
      "text/plain": [
       "                          t1        t2        t3        t4        t5  \\\n",
       "convlstm-abcd1234   0.119986  0.045686  0.020388  0.012271  0.008481   \n",
       "conv_lstm_f1dlb0m7  0.082886  0.027547  0.016282  0.010519  0.007398   \n",
       "conv_lstm_9h86gnt5  0.075541  0.025412  0.015594  0.011031  0.007806   \n",
       "conv_lstm_wwj6eryz  0.081394  0.028186  0.017909  0.011986  0.008567   \n",
       "conv_lstm_i93g6pzb  0.086424  0.028502  0.017626  0.011863  0.008592   \n",
       "convlstm-a8kwo8jx   0.092420  0.039859  0.021583  0.012946  0.009399   \n",
       "conv_lstm_k34y14il  0.100361  0.029523  0.013243  0.008495  0.006383   \n",
       "\n",
       "                          t6        t7        t8  \n",
       "convlstm-abcd1234   0.006303  0.004930  0.004102  \n",
       "conv_lstm_f1dlb0m7  0.005987  0.004994  0.004269  \n",
       "conv_lstm_9h86gnt5  0.005767  0.004526  0.003646  \n",
       "conv_lstm_wwj6eryz  0.006621  0.005343  0.004582  \n",
       "conv_lstm_i93g6pzb  0.006863  0.005648  0.004532  \n",
       "convlstm-a8kwo8jx   0.006943  0.005406  0.004080  \n",
       "conv_lstm_k34y14il  0.005630  0.004465  0.003583  "
      ]
     },
     "execution_count": 19,
     "metadata": {},
     "output_type": "execute_result"
    }
   ],
   "source": [
    "df_csi18"
   ]
  },
  {
   "cell_type": "code",
   "execution_count": 20,
   "metadata": {},
   "outputs": [
    {
     "data": {
      "text/html": [
       "<div>\n",
       "<style scoped>\n",
       "    .dataframe tbody tr th:only-of-type {\n",
       "        vertical-align: middle;\n",
       "    }\n",
       "\n",
       "    .dataframe tbody tr th {\n",
       "        vertical-align: top;\n",
       "    }\n",
       "\n",
       "    .dataframe thead th {\n",
       "        text-align: right;\n",
       "    }\n",
       "</style>\n",
       "<table border=\"1\" class=\"dataframe\">\n",
       "  <thead>\n",
       "    <tr style=\"text-align: right;\">\n",
       "      <th></th>\n",
       "      <th>t1</th>\n",
       "      <th>t2</th>\n",
       "      <th>t3</th>\n",
       "      <th>t4</th>\n",
       "      <th>t5</th>\n",
       "      <th>t6</th>\n",
       "      <th>t7</th>\n",
       "      <th>t8</th>\n",
       "    </tr>\n",
       "  </thead>\n",
       "  <tbody>\n",
       "    <tr>\n",
       "      <th>convlstm-abcd1234</th>\n",
       "      <td>0.112798</td>\n",
       "      <td>0.179003</td>\n",
       "      <td>0.228452</td>\n",
       "      <td>0.269984</td>\n",
       "      <td>0.306517</td>\n",
       "      <td>0.336390</td>\n",
       "      <td>0.362645</td>\n",
       "      <td>0.381964</td>\n",
       "    </tr>\n",
       "    <tr>\n",
       "      <th>conv_lstm_f1dlb0m7</th>\n",
       "      <td>0.148410</td>\n",
       "      <td>0.239454</td>\n",
       "      <td>0.302016</td>\n",
       "      <td>0.358847</td>\n",
       "      <td>0.408373</td>\n",
       "      <td>0.449610</td>\n",
       "      <td>0.486470</td>\n",
       "      <td>0.517351</td>\n",
       "    </tr>\n",
       "    <tr>\n",
       "      <th>conv_lstm_9h86gnt5</th>\n",
       "      <td>0.209007</td>\n",
       "      <td>0.286848</td>\n",
       "      <td>0.322093</td>\n",
       "      <td>0.341417</td>\n",
       "      <td>0.361709</td>\n",
       "      <td>0.376277</td>\n",
       "      <td>0.390269</td>\n",
       "      <td>0.398401</td>\n",
       "    </tr>\n",
       "    <tr>\n",
       "      <th>conv_lstm_wwj6eryz</th>\n",
       "      <td>0.158053</td>\n",
       "      <td>0.238760</td>\n",
       "      <td>0.267362</td>\n",
       "      <td>0.304854</td>\n",
       "      <td>0.340756</td>\n",
       "      <td>0.360060</td>\n",
       "      <td>0.380509</td>\n",
       "      <td>0.398832</td>\n",
       "    </tr>\n",
       "    <tr>\n",
       "      <th>conv_lstm_i93g6pzb</th>\n",
       "      <td>0.180151</td>\n",
       "      <td>0.250406</td>\n",
       "      <td>0.281499</td>\n",
       "      <td>0.325177</td>\n",
       "      <td>0.359863</td>\n",
       "      <td>0.378376</td>\n",
       "      <td>0.398438</td>\n",
       "      <td>0.412306</td>\n",
       "    </tr>\n",
       "    <tr>\n",
       "      <th>convlstm-a8kwo8jx</th>\n",
       "      <td>0.284755</td>\n",
       "      <td>0.345323</td>\n",
       "      <td>0.376389</td>\n",
       "      <td>0.390589</td>\n",
       "      <td>0.401702</td>\n",
       "      <td>0.410233</td>\n",
       "      <td>0.418553</td>\n",
       "      <td>0.422708</td>\n",
       "    </tr>\n",
       "    <tr>\n",
       "      <th>conv_lstm_k34y14il</th>\n",
       "      <td>0.182539</td>\n",
       "      <td>0.272589</td>\n",
       "      <td>0.323240</td>\n",
       "      <td>0.350610</td>\n",
       "      <td>0.370502</td>\n",
       "      <td>0.384011</td>\n",
       "      <td>0.395276</td>\n",
       "      <td>0.401460</td>\n",
       "    </tr>\n",
       "  </tbody>\n",
       "</table>\n",
       "</div>"
      ],
      "text/plain": [
       "                          t1        t2        t3        t4        t5  \\\n",
       "convlstm-abcd1234   0.112798  0.179003  0.228452  0.269984  0.306517   \n",
       "conv_lstm_f1dlb0m7  0.148410  0.239454  0.302016  0.358847  0.408373   \n",
       "conv_lstm_9h86gnt5  0.209007  0.286848  0.322093  0.341417  0.361709   \n",
       "conv_lstm_wwj6eryz  0.158053  0.238760  0.267362  0.304854  0.340756   \n",
       "conv_lstm_i93g6pzb  0.180151  0.250406  0.281499  0.325177  0.359863   \n",
       "convlstm-a8kwo8jx   0.284755  0.345323  0.376389  0.390589  0.401702   \n",
       "conv_lstm_k34y14il  0.182539  0.272589  0.323240  0.350610  0.370502   \n",
       "\n",
       "                          t6        t7        t8  \n",
       "convlstm-abcd1234   0.336390  0.362645  0.381964  \n",
       "conv_lstm_f1dlb0m7  0.449610  0.486470  0.517351  \n",
       "conv_lstm_9h86gnt5  0.376277  0.390269  0.398401  \n",
       "conv_lstm_wwj6eryz  0.360060  0.380509  0.398832  \n",
       "conv_lstm_i93g6pzb  0.378376  0.398438  0.412306  \n",
       "convlstm-a8kwo8jx   0.410233  0.418553  0.422708  \n",
       "conv_lstm_k34y14il  0.384011  0.395276  0.401460  "
      ]
     },
     "execution_count": 20,
     "metadata": {},
     "output_type": "execute_result"
    }
   ],
   "source": [
    "df_lpips"
   ]
  },
  {
   "cell_type": "markdown",
   "metadata": {},
   "source": [
    "### END OF SCRIPT."
   ]
  }
 ],
 "metadata": {
  "kernelspec": {
   "display_name": "irp_rain",
   "language": "python",
   "name": "python3"
  },
  "language_info": {
   "codemirror_mode": {
    "name": "ipython",
    "version": 3
   },
   "file_extension": ".py",
   "mimetype": "text/x-python",
   "name": "python",
   "nbconvert_exporter": "python",
   "pygments_lexer": "ipython3",
   "version": "3.10.10"
  }
 },
 "nbformat": 4,
 "nbformat_minor": 2
}
