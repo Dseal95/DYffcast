{
 "cells": [
  {
   "cell_type": "markdown",
   "metadata": {},
   "source": [
    "## `ConvLSTM` (`one-shot`) Inference.\n",
    "* The aim of this notebook is to run inference on trained `ConvLSTM()` models that predict the entire target sequence in one pass.\n",
    "\n",
    "* The decision was made to evaluate a `next-step` **ConvLSTM** against **DYffusion** for better alignment."
   ]
  },
  {
   "cell_type": "code",
   "execution_count": null,
   "metadata": {},
   "outputs": [],
   "source": [
    "import os\n",
    "from pathlib import Path\n",
    "from typing import Any, Dict, Tuple\n",
    "\n",
    "import matplotlib.pyplot as plt\n",
    "import numpy as np\n",
    "import pandas as pd\n",
    "import torch\n",
    "import torch.nn as nn\n",
    "from matplotlib.colors import ListedColormap\n",
    "from scipy import io\n",
    "from torch.utils.data import DataLoader\n",
    "\n",
    "from rainnow.src.convlstm_trainer import create_eval_loader, save_checkpoint, train, validate\n",
    "from rainnow.src.datasets import IMERGDataset\n",
    "from rainnow.src.models.conv_lstm import ConvLSTMModel\n",
    "from rainnow.src.normalise import PreProcess\n",
    "from rainnow.src.plotting import plot_predicted_sequence, plot_training_val_loss\n",
    "from rainnow.src.utilities.loading import load_imerg_datamodule_from_config\n",
    "from rainnow.src.utilities.utils import get_device, transform_minus1_1_to_0_1"
   ]
  },
  {
   "cell_type": "markdown",
   "metadata": {},
   "source": [
    "#### `helpers`"
   ]
  },
  {
   "cell_type": "code",
   "execution_count": null,
   "metadata": {},
   "outputs": [],
   "source": [
    "# ** DIR helpers **\n",
    "BASE_PATH = \"/teamspace/studios/this_studio\"\n",
    "\n",
    "CKPT_BASE_PATH = f\"{BASE_PATH}/DYffcast/rainnow/results/\"\n",
    "CONFIGS_BASE_PATH = f\"{BASE_PATH}/DYffcast/rainnow/src/dyffusion/configs/\"\n",
    "\n",
    "CKPT_DIR = \"checkpoints\"\n",
    "CKPT_CFG_NAME = \"hparams.yaml\"\n",
    "DATAMODULE_CONFIG_NAME = \"imerg_precipitation.yaml\"\n",
    "# whether or not to get last.ckpt or to get the \"best model\" ckpt (the other one in the folder).\n",
    "GET_LAST = False\n",
    "\n",
    "# ** Dataloader Params **\n",
    "BATCH_SIZE = 4\n",
    "NUM_WORKERS = 0\n",
    "\n",
    "INPUT_SEQUENCE_LENGTH = 8\n",
    "OUTPUT_SEQUENCE_LENGTH = 8\n",
    "\n",
    "# ** plotting helpers **\n",
    "# cmap = io.loadmat(\"../../src/utilities/cmaps/colormap.mat\")\n",
    "cmap = io.loadmat(f\"{BASE_PATH}/DYffcast/rainnow/src/utilities/cmaps/colormap.mat\")\n",
    "rain_cmap = ListedColormap(cmap[\"Cmap_rain\"])\n",
    "global_params = {\"font.size\": 8}  # , \"font.family\": \"Times New Roman\"}\n",
    "plt_params = {\"wspace\": 0.1, \"hspace\": 0.15}\n",
    "ylabel_params = {\"ha\": \"right\", \"va\": \"bottom\", \"labelpad\": 1, \"fontsize\": 7.5}\n",
    "\n",
    "# ** get device **\n",
    "device = get_device()"
   ]
  },
  {
   "cell_type": "markdown",
   "metadata": {},
   "source": [
    "#### `Datasets & Dataloaders`"
   ]
  },
  {
   "cell_type": "code",
   "execution_count": null,
   "metadata": {},
   "outputs": [],
   "source": [
    "datamodule = load_imerg_datamodule_from_config(\n",
    "    cfg_base_path=CONFIGS_BASE_PATH,\n",
    "    cfg_name=DATAMODULE_CONFIG_NAME,\n",
    "    overrides={\n",
    "        \"boxes\": [\"1,0\"],\n",
    "        \"window\": 1,\n",
    "        \"horizon\": 15,\n",
    "        \"prediction_horizon\": 15,\n",
    "        \"sequence_dt\": 1,\n",
    "    },\n",
    ")\n",
    "\n",
    "# get the .data_<split>\n",
    "datamodule.setup(\"validate\")\n",
    "datamodule.setup(\"test\")\n",
    "datamodule.setup(\"predict\")"
   ]
  },
  {
   "cell_type": "code",
   "execution_count": null,
   "metadata": {},
   "outputs": [],
   "source": [
    "# create the datasets.\n",
    "val_dataset = IMERGDataset(\n",
    "    datamodule, \"validate\", sequence_length=INPUT_SEQUENCE_LENGTH, target_length=OUTPUT_SEQUENCE_LENGTH\n",
    ")\n",
    "test_dataset = IMERGDataset(\n",
    "    datamodule, \"test\", sequence_length=INPUT_SEQUENCE_LENGTH, target_length=OUTPUT_SEQUENCE_LENGTH\n",
    ")\n",
    "predict_dataset = IMERGDataset(\n",
    "    datamodule, \"predict\", sequence_length=INPUT_SEQUENCE_LENGTH, target_length=OUTPUT_SEQUENCE_LENGTH\n",
    ")\n",
    "\n",
    "# instantiate the dataloaders.\n",
    "val_loader = DataLoader(\n",
    "    dataset=val_dataset, batch_size=BATCH_SIZE, num_workers=NUM_WORKERS, shuffle=False\n",
    ")\n",
    "test_loader = DataLoader(\n",
    "    dataset=test_dataset, batch_size=BATCH_SIZE, num_workers=NUM_WORKERS, shuffle=False\n",
    ")\n",
    "predict_loader = DataLoader(\n",
    "    dataset=predict_dataset, batch_size=BATCH_SIZE, num_workers=NUM_WORKERS, shuffle=False\n",
    ")"
   ]
  },
  {
   "cell_type": "code",
   "execution_count": null,
   "metadata": {},
   "outputs": [],
   "source": [
    "# ** instantiate the preprocesser obj **\n",
    "pprocessor = PreProcess(\n",
    "    percentiles=datamodule.normalization_hparams[\"percentiles\"],\n",
    "    minmax=datamodule.normalization_hparams[\"min_max\"],\n",
    ")"
   ]
  },
  {
   "cell_type": "markdown",
   "metadata": {},
   "source": [
    "#### `Instantiate a ConvLSTM()`"
   ]
  },
  {
   "cell_type": "code",
   "execution_count": null,
   "metadata": {},
   "outputs": [],
   "source": [
    "ckpt_ids = {\n",
    "    # entire sequence in one go ConvLSTM.\n",
    "    \"convlstm-r9m0o2ho\": \"I8:T8 | hs=(64, 64), ks=(5, 5), dp=.3 [40E, lr=3e-4]\",\n",
    "    \"convlstm-jtwm5nt0\": \"I8:T8 | hs=(64, 64, 64), ks=(5, 5), dp=.3 [40E, lr=3e-4]\",\n",
    "    \"convlstm-evzddqer\": \"I8:T8 | hs=(32, 32, 32), ks=(5, 5), dp=.3 [40E, lr=1e-4]\",\n",
    "    \"convlstm-5tbjfvkc\": \"I8:T8 | hs=(128, 64), ks=(3, 3), dp=.15 [20E, lr=3e-4]\",\n",
    "    \"convlstm-3bg6j99s\": \"I8:T8 | hs=(128, 64), ks=(5, 5), dp=.3 [20E, lr=3e-4]\",\n",
    "    \"convlstm-ivqxk14e\": \"I8:T8 | hs=(128, 64), ks=(5, 5), dp=.15 [20E, lr=3e-4]\",\n",
    "}"
   ]
  },
  {
   "cell_type": "code",
   "execution_count": null,
   "metadata": {},
   "outputs": [],
   "source": [
    "# ** load in checkpoint **\n",
    "ckpt_id = \"convlstm-jtwm5nt0\"\n",
    "model_save_path = Path(\n",
    "    os.path.join(CKPT_BASE_PATH, \"convlstm_experiments\", ckpt_id, \"checkpoints\", f\"{ckpt_id}.pt\")\n",
    ")"
   ]
  },
  {
   "cell_type": "code",
   "execution_count": null,
   "metadata": {},
   "outputs": [],
   "source": [
    "# ** instantiate a new model **\n",
    "KERNEL_SIZE = (5, 5)\n",
    "INPUT_DIMS = (1, 128, 128)  # C, H, W\n",
    "OUTPUT_CHANNELS = 1\n",
    "HIDDEN_CHANNELS = [64, 64, 64]\n",
    "NUM_LAYERS = 3\n",
    "CELL_DROPOUT = 0.15\n",
    "OUTPUT_ACTIVATION = nn.Sigmoid()\n",
    "\n",
    "model = ConvLSTMModel(\n",
    "    input_sequence_length=INPUT_SEQUENCE_LENGTH,\n",
    "    output_sequence_length=OUTPUT_SEQUENCE_LENGTH,\n",
    "    input_dims=INPUT_DIMS,\n",
    "    hidden_channels=HIDDEN_CHANNELS,\n",
    "    output_channels=OUTPUT_CHANNELS,\n",
    "    num_layers=NUM_LAYERS,\n",
    "    kernel_size=KERNEL_SIZE,\n",
    "    output_activation=OUTPUT_ACTIVATION,\n",
    "    apply_batchnorm=True,\n",
    "    cell_dropout=CELL_DROPOUT,\n",
    "    bias=True,\n",
    "    device=device,\n",
    ")\n",
    "\n",
    "model = model.to(device)\n",
    "\n",
    "# load in the checkpoint.\n",
    "model.load_state_dict(\n",
    "    state_dict=torch.load(model_save_path, map_location=torch.device(device))[\"model_state_dict\"]\n",
    ")\n",
    "# set model into eval mode.\n",
    "model.eval()"
   ]
  },
  {
   "cell_type": "markdown",
   "metadata": {},
   "source": [
    "#### `Get inputs, X and predict.`"
   ]
  },
  {
   "cell_type": "code",
   "execution_count": null,
   "metadata": {},
   "outputs": [],
   "source": [
    "iter_loader = iter(predict_loader)\n",
    "X, target = next(iter_loader)\n",
    "\n",
    "# get raw scale.\n",
    "X_reversed = pprocessor.reverse_processing(X).cpu().detach()\n",
    "target_reversed = pprocessor.reverse_processing(target).cpu().detach()"
   ]
  },
  {
   "cell_type": "code",
   "execution_count": null,
   "metadata": {},
   "outputs": [],
   "source": [
    "# ** make prediction **\n",
    "pred = model(X.to(device))\n",
    "if isinstance(model.output_activation, nn.Tanh):\n",
    "    yhat = transform_minus1_1_to_0_1(pred)\n",
    "\n",
    "pred_reversed = pprocessor.reverse_processing(pred)\n",
    "pred_reversed = pred_reversed.cpu().detach()"
   ]
  },
  {
   "cell_type": "code",
   "execution_count": null,
   "metadata": {},
   "outputs": [],
   "source": [
    "# ** plot params **\n",
    "b = 3\n",
    "plot_params = {\"cmap\": rain_cmap, \"vmin\": 0.5, \"vmax\": 8}\n",
    "figsize = (20, 3)"
   ]
  },
  {
   "cell_type": "code",
   "execution_count": null,
   "metadata": {},
   "outputs": [],
   "source": [
    "plot_predicted_sequence(\n",
    "    X=X_reversed,\n",
    "    target=target_reversed,\n",
    "    pred=pred_reversed,\n",
    "    batch_num=b,\n",
    "    plot_params=plot_params,\n",
    "    figsize=figsize,\n",
    ")"
   ]
  },
  {
   "cell_type": "markdown",
   "metadata": {},
   "source": [
    "### END OF SCRIPT."
   ]
  }
 ],
 "metadata": {
  "kernelspec": {
   "display_name": "irp_rain",
   "language": "python",
   "name": "python3"
  },
  "language_info": {
   "codemirror_mode": {
    "name": "ipython",
    "version": 3
   },
   "file_extension": ".py",
   "mimetype": "text/x-python",
   "name": "python",
   "nbconvert_exporter": "python",
   "pygments_lexer": "ipython3",
   "version": "3.11.9"
  }
 },
 "nbformat": 4,
 "nbformat_minor": 2
}
