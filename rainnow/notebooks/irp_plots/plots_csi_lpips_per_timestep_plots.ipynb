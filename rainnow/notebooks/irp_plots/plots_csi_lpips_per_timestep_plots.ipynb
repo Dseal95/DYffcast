{
 "cells": [
  {
   "cell_type": "markdown",
   "metadata": {},
   "source": [
    "## `CSI` & `LPIPS` / timestep (`t`) for Model forecasts.\n",
    "\n",
    "* The aim of this notebook is to plot the IRP plots of CSI and LPIPS scores per timestep for the final set of trained models.\n",
    "\n",
    "* the data is read from the .csv files outputted from the eval NBs. "
   ]
  },
  {
   "cell_type": "code",
   "execution_count": null,
   "metadata": {},
   "outputs": [],
   "source": [
    "import pandas as pd\n",
    "import matplotlib.pyplot as plt"
   ]
  },
  {
   "cell_type": "code",
   "execution_count": null,
   "metadata": {},
   "outputs": [],
   "source": [
    "# ** read in the data **\n",
    "files = [\n",
    "    \"eval_metrics/csi2.csv\",\n",
    "    \"eval_metrics/csi10.csv\",\n",
    "    \"eval_metrics/csi18.csv\",\n",
    "    \"eval_metrics/lpips.csv\",\n",
    "]\n",
    "dataframes = [pd.read_csv(file) for file in files]"
   ]
  },
  {
   "cell_type": "code",
   "execution_count": null,
   "metadata": {},
   "outputs": [],
   "source": [
    "# plot params.\n",
    "colors = [\"darkblue\", \"C0\", \"darkgreen\", \"C2\"]\n",
    "linestyles = [\"-\", \"--\", \"-\", \"--\"]\n",
    "metrics = [\"CSI\", \"CSI\", \"CSI\", \"LPIPS\"]\n",
    "metric_labels = [r\"2 mm.h$^{-1}$\", r\"10 mm.h$^{-1}$\", r\"18 mm.h$^{-1}$\", \"\"]\n",
    "labels = [\n",
    "    r\"DYffusion$_{\\text{LCB}}$\",\n",
    "    r\"DYffusion$_{\\text{L1}}$\",\n",
    "    r\"ConvLSTM$_{\\text{LCB}}$\",\n",
    "    r\"ConvLSTM$_{\\text{BCE}}$\",\n",
    "]\n",
    "\n",
    "fig, axs = plt.subplots(2, 2, figsize=(15, 8))\n",
    "for i, (ax, df) in enumerate(zip(axs.flat, dataframes)):\n",
    "    for j, (_, row) in enumerate(df.iterrows()):\n",
    "        ax.plot(\n",
    "            df.columns[1:],\n",
    "            row[1:],\n",
    "            marker=\"o\",\n",
    "            markersize=5,\n",
    "            label=labels[j],  # row['model'],\n",
    "            color=colors[j],\n",
    "            linestyle=linestyles[j],\n",
    "            alpha=0.8,\n",
    "            linewidth=2,\n",
    "        )\n",
    "    if i >= 2 != 0:\n",
    "        ax.set_xlabel(\"Forecast hours (h)\", fontsize=15)\n",
    "    ax.set_ylabel(f\"{metrics[i]}\", fontsize=15)\n",
    "\n",
    "    if i == len(dataframes) - 1:\n",
    "        ax.legend(loc=\"best\", fontsize=15)\n",
    "\n",
    "    # Set x-ticks to match the original plot\n",
    "    ax.set_xticks(range(0, 8))\n",
    "    ax.set_xticklabels([f\"{x/2:.1f}\" for x in range(1, 9)], fontsize=15)\n",
    "    ax.tick_params(axis=\"y\", labelsize=15)\n",
    "\n",
    "    # Remove grid\n",
    "    ax.grid(False)\n",
    "\n",
    "    ax.text(\n",
    "        0.95,\n",
    "        0.95,\n",
    "        f\"({chr(97+i)}) {metric_labels[i]}\",\n",
    "        transform=ax.transAxes,\n",
    "        fontsize=15,\n",
    "        va=\"top\",\n",
    "        ha=\"right\",\n",
    "    )\n",
    "\n",
    "plt.subplots_adjust(**{\"wspace\": 0.1, \"hspace\": 0.1})\n",
    "plt.tight_layout()"
   ]
  },
  {
   "cell_type": "markdown",
   "metadata": {},
   "source": [
    "### END OF SCRIPT."
   ]
  }
 ],
 "metadata": {
  "kernelspec": {
   "display_name": "irp_rain",
   "language": "python",
   "name": "python3"
  },
  "language_info": {
   "codemirror_mode": {
    "name": "ipython",
    "version": 3
   },
   "file_extension": ".py",
   "mimetype": "text/x-python",
   "name": "python",
   "nbconvert_exporter": "python",
   "pygments_lexer": "ipython3",
   "version": "3.11.9"
  }
 },
 "nbformat": 4,
 "nbformat_minor": 2
}
