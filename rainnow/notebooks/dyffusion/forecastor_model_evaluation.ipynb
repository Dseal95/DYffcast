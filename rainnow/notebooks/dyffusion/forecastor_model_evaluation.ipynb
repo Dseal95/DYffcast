{
 "cells": [
  {
   "cell_type": "markdown",
   "metadata": {},
   "source": [
    "## DYffusion `Forecastor`, $F_{\\theta}$, Evaluation.\n",
    "* The aim of this notebook is to evaluate trained `DYffusion` models for an X-member ensemble.\n",
    "\n",
    "* The notebook evaluates an entire dataset for `LPIPS`, `MSE`, `CRPS`, `SSR` and `CSI`.\n",
    "\n",
    "* A `DYffusion` model is also evaluated per timestep to get roll-out metrics."
   ]
  },
  {
   "cell_type": "code",
   "execution_count": 1,
   "metadata": {},
   "outputs": [
    {
     "name": "stderr",
     "output_type": "stream",
     "text": [
      "/home/zeus/miniconda3/envs/cloudspace/lib/python3.10/site-packages/tensordict/_pytree.py:147: UserWarning: torch.utils._pytree._register_pytree_node is deprecated. Please use torch.utils._pytree.register_pytree_node instead.\n",
      "  register_pytree_node(\n"
     ]
    }
   ],
   "source": [
    "import os\n",
    "from pathlib import Path\n",
    "from typing import Any, Dict, List, Tuple\n",
    "\n",
    "import matplotlib.pyplot as plt\n",
    "import numpy as np\n",
    "import pandas as pd\n",
    "import torch\n",
    "import torch.nn as nn\n",
    "from IPython.display import clear_output\n",
    "from matplotlib.colors import ListedColormap\n",
    "from scipy import io\n",
    "from torch.nn import MSELoss\n",
    "from torch.utils.data import DataLoader\n",
    "from torchmetrics.image import LearnedPerceptualImagePatchSimilarity as LPIPS\n",
    "from torchmetrics.regression import CriticalSuccessIndex\n",
    "from tqdm import tqdm\n",
    "\n",
    "from rainnow.src.dyffusion.utilities.evaluation import (\n",
    "    evaluate_ensemble_crps,\n",
    "    evaluate_ensemble_spread_skill_ratio,\n",
    ")\n",
    "from rainnow.src.normalise import PreProcess\n",
    "from rainnow.src.utilities.loading import (\n",
    "    get_model_ckpt_path,\n",
    "    load_imerg_datamodule_from_config,\n",
    "    load_model_state_dict,\n",
    ")\n",
    "from rainnow.src.utilities.utils import get_device\n",
    "from rainnow.src.utilities.instantiators import instantiate_multi_horizon_dyffusion_model"
   ]
  },
  {
   "cell_type": "markdown",
   "metadata": {},
   "source": [
    "#### `helpers.`"
   ]
  },
  {
   "cell_type": "code",
   "execution_count": null,
   "metadata": {},
   "outputs": [],
   "source": [
    "# ** DIR helpers **\n",
    "BASE_PATH = \"/teamspace/studios/this_studio\"\n",
    "\n",
    "CKPT_BASE_PATH = f\"{BASE_PATH}/DYffcast/rainnow/results/\"\n",
    "CONFIGS_BASE_PATH = f\"{BASE_PATH}/DYffcast/rainnow/src/dyffusion/configs/\"\n",
    "\n",
    "CKPT_DIR = \"checkpoints\"\n",
    "CKPT_CFG_NAME = \"hparams.yaml\"\n",
    "DATAMODULE_CONFIG_NAME = \"imerg_precipitation.yaml\"\n",
    "# whether or not to get last.ckpt or to get the \"best model\" ckpt (the other one in the folder).\n",
    "GET_LAST = False\n",
    "\n",
    "# ** Dataloader Params **\n",
    "BATCH_SIZE = 6  # this doesn't matter for inference.\n",
    "NUM_WORKERS = 0\n",
    "\n",
    "INPUT_SEQUENCE_LENGTH = 4\n",
    "OUTPUT_SEQUENCE_LENGTH = 1\n",
    "\n",
    "# ** plotting helpers **\n",
    "# cmap = io.loadmat(\"../../src/utilities/cmaps/colormap.mat\")\n",
    "cmap = io.loadmat(f\"{BASE_PATH}/DYffcast/rainnow/src/utilities/cmaps/colormap.mat\")\n",
    "rain_cmap = ListedColormap(cmap[\"Cmap_rain\"])\n",
    "global_params = {\"font.size\": 8}  # , \"font.family\": \"Times New Roman\"}\n",
    "plt_params = {\"wspace\": 0.1, \"hspace\": 0.15}\n",
    "ylabel_params = {\"ha\": \"right\", \"va\": \"bottom\", \"labelpad\": 1, \"fontsize\": 7.5}\n",
    "\n",
    "# ** get device **\n",
    "device = get_device()"
   ]
  },
  {
   "cell_type": "markdown",
   "metadata": {},
   "source": [
    "#### `helpers.`"
   ]
  },
  {
   "cell_type": "code",
   "execution_count": 3,
   "metadata": {},
   "outputs": [],
   "source": [
    "# ** DIR helpers **\n",
    "BASE_PATH = \"/teamspace/studios/this_studio\"\n",
    "\n",
    "CKPT_BASE_PATH = f\"{BASE_PATH}/DYffcast/rainnow/results/\"\n",
    "CONFIGS_BASE_PATH = f\"{BASE_PATH}/DYffcast/rainnow/src/dyffusion/configs/\"\n",
    "\n",
    "CKPT_DIR = \"checkpoints\"\n",
    "CKPT_CFG_NAME = \"hparams.yaml\"\n",
    "DATAMODULE_CONFIG_NAME = \"imerg_precipitation.yaml\"\n",
    "# whether or not to get last.ckpt or to get the \"best model\" ckpt (the other one in the folder).\n",
    "GET_LAST = False\n",
    "\n",
    "# ** Dataloader Params **\n",
    "BATCH_SIZE = 6\n",
    "NUM_WORKERS = 0\n",
    "\n",
    "# ** plotting helpers **\n",
    "# cmap = io.loadmat(\"../../src/utilities/cmaps/colormap.mat\")\n",
    "cmap = io.loadmat(f\"{BASE_PATH}/DYffcast/rainnow/src/utilities/cmaps/colormap.mat\")\n",
    "rain_cmap = ListedColormap(cmap[\"Cmap_rain\"])\n",
    "global_params = {\"font.size\": 8}  # , \"font.family\": \"Times New Roman\"}\n",
    "plt_params = {\"wspace\": 0.1, \"hspace\": 0.15}\n",
    "ylabel_params = {\"ha\": \"right\", \"va\": \"bottom\", \"labelpad\": 1, \"fontsize\": 7.5}\n",
    "\n",
    "# ** get device **\n",
    "device = get_device()"
   ]
  },
  {
   "cell_type": "markdown",
   "metadata": {},
   "source": [
    "#### `Instantiate + Load in the datamodule.`"
   ]
  },
  {
   "cell_type": "code",
   "execution_count": 4,
   "metadata": {},
   "outputs": [
    {
     "name": "stderr",
     "output_type": "stream",
     "text": [
      "[2024-08-29 15:33:02][imerg_precipitation.py][INFO] --> training, validation & test using 4 (i, j) boxes: ['0,0', '1,0', '2,0', '2,1'].\n",
      "[2024-08-29 15:33:02][imerg_precipitation.py][INFO] --> test data split: [202307010000, 202401010000]\n"
     ]
    },
    {
     "name": "stderr",
     "output_type": "stream",
     "text": [
      "[2024-08-29 15:33:08][torch_datasets.py][INFO] --> creating TEST tensor dataset.\n",
      "[2024-08-29 15:33:08][normalise.py][INFO] --> pprocessing w/ percentiles (1st, 99th): [0.0, 5.670000076293945],  (min, max): [0.0, 3.23434630590838]\n",
      "[2024-08-29 15:33:09][abstract_datamodule.py][INFO] -->  Dataset test size: 984\n"
     ]
    }
   ],
   "source": [
    "datamodule = load_imerg_datamodule_from_config(\n",
    "    cfg_base_path=CONFIGS_BASE_PATH,\n",
    "    cfg_name=DATAMODULE_CONFIG_NAME,\n",
    "    overrides={\n",
    "        \"boxes\": [\"0,0\", \"1,0\", \"2,0\", \"2,1\"],\n",
    "        \"window\": 1,\n",
    "        \"horizon\": 8,\n",
    "        \"prediction_horizon\": 8,\n",
    "        \"sequence_dt\": 1,\n",
    "    },\n",
    ")\n",
    "\n",
    "datamodule.setup(\"test\")\n",
    "\n",
    "# set up the dataloaders.\n",
    "BATCH_SIZE = datamodule.hparams[\"batch_size\"]\n",
    "test_dataloader = DataLoader(datamodule._data_test, batch_size=BATCH_SIZE, shuffle=False)"
   ]
  },
  {
   "cell_type": "markdown",
   "metadata": {},
   "source": [
    "#### `Instantiate the preprocessor object`"
   ]
  },
  {
   "cell_type": "code",
   "execution_count": 5,
   "metadata": {},
   "outputs": [
    {
     "name": "stderr",
     "output_type": "stream",
     "text": [
      "[2024-08-29 15:33:09][normalise.py][INFO] --> pprocessing w/ percentiles (1st, 99th): [0.0, 5.670000076293945],  (min, max): [0.0, 3.23434630590838]\n"
     ]
    }
   ],
   "source": [
    "# ** instantiate the preprocesser obj **\n",
    "pprocessor = PreProcess(\n",
    "    percentiles=datamodule.normalization_hparams[\"percentiles\"],\n",
    "    minmax=datamodule.normalization_hparams[\"min_max\"],\n",
    ")"
   ]
  },
  {
   "cell_type": "markdown",
   "metadata": {},
   "source": [
    "#### `Set up Eval metrics.`"
   ]
  },
  {
   "cell_type": "code",
   "execution_count": 6,
   "metadata": {},
   "outputs": [],
   "source": [
    "# instantiate metrics.\n",
    "lpips = LPIPS(reduction=\"mean\", normalize=True).to(\n",
    "    device\n",
    ")  # set to True so that the function normalises to [-1, 1].\n",
    "mse = MSELoss(reduction=\"mean\")\n",
    "csi_nodes = [2, 10, 18]\n",
    "# need to get the nodes to the same scale as the data. See NB:  imerg_rainfall_classes.ipynb for rain classes + distributions.\n",
    "normed_csi_nodes = pprocessor.apply_preprocessing(np.array(csi_nodes))\n",
    "csi2 = CriticalSuccessIndex(threshold=normed_csi_nodes[0]).to(device)\n",
    "csi10 = CriticalSuccessIndex(threshold=normed_csi_nodes[1]).to(device)\n",
    "csi18 = CriticalSuccessIndex(threshold=normed_csi_nodes[-1]).to(device)"
   ]
  },
  {
   "cell_type": "code",
   "execution_count": 7,
   "metadata": {},
   "outputs": [],
   "source": [
    "ckpt_dict = {\n",
    "    \"dyffusion-daftvdwg\": \"LCB(α=.6) | ALL boxes | Full Sequence | 20 Epochs | lr=3e-4\",\n",
    "    \"dyffusion-fyxpjp65\": \"L1 | ALL boxes | Full Sequence | 20 Epochs | lr=3e-4\",\n",
    "}"
   ]
  },
  {
   "cell_type": "markdown",
   "metadata": {},
   "source": [
    "#### `Evaluation (Sequence & t preds)`"
   ]
  },
  {
   "cell_type": "code",
   "execution_count": 1,
   "metadata": {},
   "outputs": [],
   "source": [
    "# set eval params.\n",
    "horizon = datamodule.hparams.horizon\n",
    "num_ensemble = 10\n",
    "\n",
    "eval_sequence_metrics, eval_metrics_per_t = {}, {}\n",
    "with torch.no_grad():\n",
    "    for ckpt_id in [\n",
    "        \"dyffusion-daftvdwg\",\n",
    "        # \"dyffusion-fyxpjp65\",\n",
    "    ]:\n",
    "        # ** instantiate a DYffusion model **\n",
    "        model = instantiate_multi_horizon_dyffusion_model(\n",
    "            ckpt_id=ckpt_id,\n",
    "            ckpt_base_path=CKPT_BASE_PATH,\n",
    "            diffusion_config_overrides={\n",
    "                \"interpolator_checkpoint_base_path\": \"/teamspace/studios/this_studio/irp-ds423/rainnow/results/\"\n",
    "                # \"interpolator_checkpoint_base_path\": \"/Users/ds423/git_uni/irp-ds423/rainnow/results/interpolation_experiments\"\n",
    "            },\n",
    "        )\n",
    "        # load in model checkpoint.\n",
    "        ckpt_path = get_model_ckpt_path(ckpt_id=ckpt_id, ckpt_base_path=CKPT_BASE_PATH, get_last=False)\n",
    "        state_dict = load_model_state_dict(ckpt_path=ckpt_path, device=device)\n",
    "        # load in weights and biases from the checkpoint model.\n",
    "        model._model.load_state_dict(state_dict)\n",
    "        # set model into eval mode.\n",
    "        model.eval()\n",
    "        model._model.eval()\n",
    "\n",
    "        # -----------------------------------------------------------------------------------\n",
    "        # ** 1. create eval dataset. Get preds and targets dims: (N, S, C, H, W) **\n",
    "        # get a list of all the mean predictions per t. The list contains a {tn: mean(ens preds at t)} for each X.\n",
    "        mu_all_preds, ens_all_preds, eval_targets_list = [], [], []\n",
    "        for e, X in tqdm(\n",
    "            enumerate(test_dataloader), total=len(test_dataloader), desc=f\"Evaluating model {ckpt_id}\"\n",
    "        ):\n",
    "            inputs = X[\"dynamics\"].clone()\n",
    "            # get initial condition.\n",
    "            x0 = inputs[:, 0, :, :, :]\n",
    "\n",
    "            # get targets and store them.\n",
    "            targets = inputs[:, 1:, :, :, :]\n",
    "            eval_targets_list.append(inputs[:, 1:, ...])\n",
    "\n",
    "            # make n ensemble sampling predictions for each timestep, t.\n",
    "            t_ens_preds = {f\"t{t+1}_preds\": [] for t in range(horizon)}\n",
    "            for n in range(num_ensemble):\n",
    "                print(f\"ensemble {n}\")\n",
    "                preds = model.model.sample(initial_condition=x0)\n",
    "                for k, pred in preds.items():\n",
    "                    # handle data range if required.\n",
    "                    if isinstance(model.model_final_layer_activation, nn.Tanh):\n",
    "                        pred = (pred + 1) / 2\n",
    "                    t_ens_preds[k].append(pred)\n",
    "            # create a mean prediction dictionary from the ens t_preds,  with t: mean_prediction.\n",
    "            mu_preds, ens_preds = {}, {}\n",
    "            for k, v in t_ens_preds.items():\n",
    "                mu_preds[k] = torch.mean(torch.cat([i for i in v], dim=1), dim=1).unsqueeze(1)\n",
    "                ens_preds[k] = torch.cat([i for i in v], dim=1)\n",
    "            mu_all_preds.append(mu_preds)\n",
    "            ens_all_preds.append(ens_preds)\n",
    "\n",
    "            # clear the output from the cell after each run.\n",
    "            # the tqdm of DYffusion cloggs the UI.\n",
    "            clear_output(wait=True)\n",
    "        clear_output(wait=True)\n",
    "\n",
    "        # assemble into a single predictions dataset for easier eval.\n",
    "        # dataset w/ dims: (N, S, C, H, W). S is the number of prediction timesteps.\n",
    "        eval_preds_list = []\n",
    "        for n, mu_t_preds in enumerate(mu_all_preds):\n",
    "            eval_preds_list.append(torch.cat([v for k, v in mu_t_preds.items()], dim=1).unsqueeze(-3))\n",
    "        eval_preds = torch.cat([i for i in eval_preds_list], dim=0)\n",
    "        eval_targets = torch.cat([i for i in eval_targets_list], dim=0)\n",
    "        assert eval_preds.size() == eval_targets.size()\n",
    "\n",
    "        # also get a dataset for the ensemble metrics.\n",
    "        eval_ens_preds_list = []\n",
    "        for n, ens_t_preds in enumerate(ens_all_preds):\n",
    "            eval_ens_preds_list.append(\n",
    "                torch.stack([v for k, v in ens_t_preds.items()]).permute(1, 2, 0, 3, 4).unsqueeze(-3)\n",
    "            )\n",
    "        eval_ens_preds = torch.cat([i for i in eval_ens_preds_list], dim=0)\n",
    "        assert eval_ens_preds.size(1) == num_ensemble\n",
    "        assert eval_ens_preds.size(2) == horizon\n",
    "        # -----------------------------------------------------------------------------------\n",
    "\n",
    "        # -----------------------------------------------------------------------------------\n",
    "        # ** 2. get sequence metrics. Compare pred sequence to target sequence. **\n",
    "        l2_score = 0\n",
    "        lpips_score = 0\n",
    "        csi2_score = 0  # low rain.\n",
    "        csi10_score = 0  # mid rain.\n",
    "        csi18_score = 0  # heavy rain.\n",
    "        # probabilistic metrics.\n",
    "        crps_score = 0\n",
    "        raw_crps_score = 0\n",
    "        ssr_score = 0\n",
    "        for idx in range(eval_preds.size(0)):\n",
    "            # get preds and targets.\n",
    "            _pred = eval_preds[idx, ...]\n",
    "            _ens_preds = eval_ens_preds[idx, ...]\n",
    "            _target = eval_targets[idx, ...]\n",
    "\n",
    "            # get metrics.\n",
    "            l2_score += mse(_pred.to(device), _target.to(device))\n",
    "            # lpips score. Inputs need to have 3 channels.\n",
    "            lpips_score += lpips(\n",
    "                torch.clamp(_pred.expand(-1, 3, -1, -1), 0, 1).to(device),\n",
    "                torch.clamp(_target.expand(-1, 3, -1, -1), 0, 1).to(device),\n",
    "            )\n",
    "            # csi score at different thresholds.\n",
    "            csi2_score += csi2(_pred.to(device), _target.to(device))\n",
    "            csi10_score += csi10(_pred.to(device), _target.to(device))\n",
    "            csi18_score += csi18(_pred.to(device), _target.to(device))\n",
    "            # probabilistic metrics.\n",
    "            crps_score += evaluate_ensemble_crps(ensemble_predictions=_ens_preds, targets=_target)\n",
    "            raw_crps_score += evaluate_ensemble_crps(\n",
    "                ensemble_predictions=pprocessor.reverse_processing(_ens_preds),\n",
    "                targets=pprocessor.reverse_processing(_target),\n",
    "            )\n",
    "            ssr_score += evaluate_ensemble_spread_skill_ratio(\n",
    "                ensemble_predictions=_ens_preds.numpy(), targets=_target.numpy()\n",
    "            )\n",
    "\n",
    "        eval_sequence_metrics[ckpt_id] = {\n",
    "            \"MSE\": l2_score.item() / eval_preds.size(0),\n",
    "            \"lpips\": lpips_score.item() / eval_preds.size(0),\n",
    "            \"csi2\": csi2_score.item() / eval_preds.size(0),\n",
    "            \"csi10\": csi10_score.item() / eval_preds.size(0),\n",
    "            \"csi18\": csi18_score.item() / eval_preds.size(0),\n",
    "            \"crps\": crps_score / eval_preds.size(0),\n",
    "            \"raw_crps\": raw_crps_score / eval_preds.size(0),\n",
    "            \"ssr\": ssr_score / eval_preds.size(0),\n",
    "        }\n",
    "        # -----------------------------------------------------------------------------------\n",
    "\n",
    "        # create df, format it and export it to a .csv.\n",
    "        df_results = pd.DataFrame(eval_sequence_metrics).T\n",
    "        df_results.to_csv(\"dyffusion_eval_metrics_v2.csv\")\n",
    "\n",
    "        # -----------------------------------------------------------------------------------\n",
    "        # ** 3. get timestep metrics. Compare pred t sequence to target t sequence**\n",
    "        # csi stores.\n",
    "        csi2_score_t = torch.zeros(eval_preds.size(1)).to(device)\n",
    "        csi10_score_t = torch.zeros(eval_preds.size(1)).to(device)\n",
    "        csi18_score_t = torch.zeros(eval_preds.size(1)).to(device)\n",
    "        # perceptual loss stores.\n",
    "        lpips_score_t = torch.zeros(eval_preds.size(1)).to(device)\n",
    "\n",
    "        for idx in range(eval_preds.size(0)):\n",
    "            # get preds and targets.\n",
    "            _pred = eval_preds[idx, ...]\n",
    "            _target = eval_targets[idx, ...]\n",
    "\n",
    "            for t in range(eval_preds.size(1)):\n",
    "                # loop through all the ts and compute the relevant CSI scores.\n",
    "                csi2_score_t[t] += csi2(_target[t].to(device), _pred[t].to(device))\n",
    "                csi10_score_t[t] += csi10(_target[t].to(device), _pred[t].to(device))\n",
    "                csi18_score_t[t] += csi18(_target[t].to(device), _pred[t].to(device))\n",
    "                lpips_score_t[t] += lpips(\n",
    "                    torch.clamp(_target[t].expand(1, 3, -1, -1), 0, 1).to(device),\n",
    "                    torch.clamp(_pred[t].expand(1, 3, -1, -1), 0, 1).to(device),\n",
    "                )\n",
    "        # normalise the scores.\n",
    "        eval_metrics_per_t[ckpt_id] = {\n",
    "            \"csi2_t\": csi2_score_t / len(eval_preds),\n",
    "            \"csi10_t\": csi10_score_t / len(eval_preds),\n",
    "            \"csi18_t\": csi18_score_t / len(eval_preds),\n",
    "            \"lpips_t\": lpips_score_t / len(eval_preds),\n",
    "        }\n",
    "\n",
    "        # create df, format it and export it to a .csv.\n",
    "        df_results_per_t = pd.DataFrame(eval_metrics_per_t).T\n",
    "        df_results_per_t.to_csv(\"dyffusion_eval_metrics_per_time_v2.csv\")\n",
    "        # -----------------------------------------------------------------------------------"
   ]
  },
  {
   "cell_type": "code",
   "execution_count": 9,
   "metadata": {},
   "outputs": [
    {
     "data": {
      "text/html": [
       "<div>\n",
       "<style scoped>\n",
       "    .dataframe tbody tr th:only-of-type {\n",
       "        vertical-align: middle;\n",
       "    }\n",
       "\n",
       "    .dataframe tbody tr th {\n",
       "        vertical-align: top;\n",
       "    }\n",
       "\n",
       "    .dataframe thead th {\n",
       "        text-align: right;\n",
       "    }\n",
       "</style>\n",
       "<table border=\"1\" class=\"dataframe\">\n",
       "  <thead>\n",
       "    <tr style=\"text-align: right;\">\n",
       "      <th></th>\n",
       "      <th>MSE</th>\n",
       "      <th>crps</th>\n",
       "      <th>csi10</th>\n",
       "      <th>csi18</th>\n",
       "      <th>csi2</th>\n",
       "      <th>lpips</th>\n",
       "      <th>raw_crps</th>\n",
       "      <th>ssr</th>\n",
       "    </tr>\n",
       "  </thead>\n",
       "  <tbody>\n",
       "    <tr>\n",
       "      <th>dyffusion-fyxpjp65</th>\n",
       "      <td>0.001498</td>\n",
       "      <td>0.009707</td>\n",
       "      <td>0.067546</td>\n",
       "      <td>0.023004</td>\n",
       "      <td>0.227119</td>\n",
       "      <td>0.32259</td>\n",
       "      <td>0.275957</td>\n",
       "      <td>0.045327</td>\n",
       "    </tr>\n",
       "  </tbody>\n",
       "</table>\n",
       "</div>"
      ],
      "text/plain": [
       "                         MSE      crps     csi10     csi18      csi2    lpips  \\\n",
       "dyffusion-fyxpjp65  0.001498  0.009707  0.067546  0.023004  0.227119  0.32259   \n",
       "\n",
       "                    raw_crps       ssr  \n",
       "dyffusion-fyxpjp65  0.275957  0.045327  "
      ]
     },
     "execution_count": 9,
     "metadata": {},
     "output_type": "execute_result"
    }
   ],
   "source": [
    "df_results"
   ]
  },
  {
   "cell_type": "markdown",
   "metadata": {},
   "source": [
    "#### `Get metrics / t for CSI + LPIPS`"
   ]
  },
  {
   "cell_type": "code",
   "execution_count": 10,
   "metadata": {},
   "outputs": [],
   "source": [
    "# get csi + lpips dfs.\n",
    "df_all = {}\n",
    "for k, v in eval_metrics_per_t.items():\n",
    "    dfs = {}\n",
    "    for metric, values in v.items():\n",
    "        dfs[metric] = pd.DataFrame(\n",
    "            data=[[i.item() for i in values]], columns=[f\"t{i+1}\" for i in range(len(values))]\n",
    "        )\n",
    "    df_all[k] = dfs\n",
    "\n",
    "df_csi2 = pd.DataFrame(columns=[f\"t{i+1}\" for i in range(horizon)])\n",
    "df_csi10 = pd.DataFrame(columns=[f\"t{i+1}\" for i in range(horizon)])\n",
    "df_csi18 = pd.DataFrame(columns=[f\"t{i+1}\" for i in range(horizon)])\n",
    "df_lpips = pd.DataFrame(columns=[f\"t{i+1}\" for i in range(horizon)])\n",
    "\n",
    "for model_name, metrics in df_all.items():\n",
    "    csi2_values = metrics[\"csi2_t\"].iloc[0].values\n",
    "    csi10_values = metrics[\"csi10_t\"].iloc[0].values\n",
    "    csi18_values = metrics[\"csi18_t\"].iloc[0].values\n",
    "    lpips_values = metrics[\"lpips_t\"].iloc[0].values\n",
    "\n",
    "    df_csi2.loc[model_name] = csi2_values\n",
    "    df_csi10.loc[model_name] = csi10_values\n",
    "    df_csi18.loc[model_name] = csi18_values\n",
    "    df_lpips.loc[model_name] = lpips_values"
   ]
  },
  {
   "cell_type": "code",
   "execution_count": 11,
   "metadata": {},
   "outputs": [
    {
     "data": {
      "text/html": [
       "<div>\n",
       "<style scoped>\n",
       "    .dataframe tbody tr th:only-of-type {\n",
       "        vertical-align: middle;\n",
       "    }\n",
       "\n",
       "    .dataframe tbody tr th {\n",
       "        vertical-align: top;\n",
       "    }\n",
       "\n",
       "    .dataframe thead th {\n",
       "        text-align: right;\n",
       "    }\n",
       "</style>\n",
       "<table border=\"1\" class=\"dataframe\">\n",
       "  <thead>\n",
       "    <tr style=\"text-align: right;\">\n",
       "      <th></th>\n",
       "      <th>t1</th>\n",
       "      <th>t2</th>\n",
       "      <th>t3</th>\n",
       "      <th>t4</th>\n",
       "      <th>t5</th>\n",
       "      <th>t6</th>\n",
       "      <th>t7</th>\n",
       "      <th>t8</th>\n",
       "    </tr>\n",
       "  </thead>\n",
       "  <tbody>\n",
       "    <tr>\n",
       "      <th>dyffusion-fyxpjp65</th>\n",
       "      <td>0.509026</td>\n",
       "      <td>0.33503</td>\n",
       "      <td>0.259788</td>\n",
       "      <td>0.199946</td>\n",
       "      <td>0.15968</td>\n",
       "      <td>0.133388</td>\n",
       "      <td>0.114014</td>\n",
       "      <td>0.095876</td>\n",
       "    </tr>\n",
       "  </tbody>\n",
       "</table>\n",
       "</div>"
      ],
      "text/plain": [
       "                          t1       t2        t3        t4       t5        t6  \\\n",
       "dyffusion-fyxpjp65  0.509026  0.33503  0.259788  0.199946  0.15968  0.133388   \n",
       "\n",
       "                          t7        t8  \n",
       "dyffusion-fyxpjp65  0.114014  0.095876  "
      ]
     },
     "execution_count": 11,
     "metadata": {},
     "output_type": "execute_result"
    }
   ],
   "source": [
    "df_csi2"
   ]
  },
  {
   "cell_type": "code",
   "execution_count": 12,
   "metadata": {},
   "outputs": [
    {
     "data": {
      "text/html": [
       "<div>\n",
       "<style scoped>\n",
       "    .dataframe tbody tr th:only-of-type {\n",
       "        vertical-align: middle;\n",
       "    }\n",
       "\n",
       "    .dataframe tbody tr th {\n",
       "        vertical-align: top;\n",
       "    }\n",
       "\n",
       "    .dataframe thead th {\n",
       "        text-align: right;\n",
       "    }\n",
       "</style>\n",
       "<table border=\"1\" class=\"dataframe\">\n",
       "  <thead>\n",
       "    <tr style=\"text-align: right;\">\n",
       "      <th></th>\n",
       "      <th>t1</th>\n",
       "      <th>t2</th>\n",
       "      <th>t3</th>\n",
       "      <th>t4</th>\n",
       "      <th>t5</th>\n",
       "      <th>t6</th>\n",
       "      <th>t7</th>\n",
       "      <th>t8</th>\n",
       "    </tr>\n",
       "  </thead>\n",
       "  <tbody>\n",
       "    <tr>\n",
       "      <th>dyffusion-fyxpjp65</th>\n",
       "      <td>0.250203</td>\n",
       "      <td>0.089917</td>\n",
       "      <td>0.049971</td>\n",
       "      <td>0.027504</td>\n",
       "      <td>0.017135</td>\n",
       "      <td>0.012819</td>\n",
       "      <td>0.010001</td>\n",
       "      <td>0.005476</td>\n",
       "    </tr>\n",
       "  </tbody>\n",
       "</table>\n",
       "</div>"
      ],
      "text/plain": [
       "                          t1        t2        t3        t4        t5  \\\n",
       "dyffusion-fyxpjp65  0.250203  0.089917  0.049971  0.027504  0.017135   \n",
       "\n",
       "                          t6        t7        t8  \n",
       "dyffusion-fyxpjp65  0.012819  0.010001  0.005476  "
      ]
     },
     "execution_count": 12,
     "metadata": {},
     "output_type": "execute_result"
    }
   ],
   "source": [
    "df_csi10"
   ]
  },
  {
   "cell_type": "code",
   "execution_count": 13,
   "metadata": {},
   "outputs": [
    {
     "data": {
      "text/html": [
       "<div>\n",
       "<style scoped>\n",
       "    .dataframe tbody tr th:only-of-type {\n",
       "        vertical-align: middle;\n",
       "    }\n",
       "\n",
       "    .dataframe tbody tr th {\n",
       "        vertical-align: top;\n",
       "    }\n",
       "\n",
       "    .dataframe thead th {\n",
       "        text-align: right;\n",
       "    }\n",
       "</style>\n",
       "<table border=\"1\" class=\"dataframe\">\n",
       "  <thead>\n",
       "    <tr style=\"text-align: right;\">\n",
       "      <th></th>\n",
       "      <th>t1</th>\n",
       "      <th>t2</th>\n",
       "      <th>t3</th>\n",
       "      <th>t4</th>\n",
       "      <th>t5</th>\n",
       "      <th>t6</th>\n",
       "      <th>t7</th>\n",
       "      <th>t8</th>\n",
       "    </tr>\n",
       "  </thead>\n",
       "  <tbody>\n",
       "    <tr>\n",
       "      <th>dyffusion-fyxpjp65</th>\n",
       "      <td>0.098247</td>\n",
       "      <td>0.020488</td>\n",
       "      <td>0.007073</td>\n",
       "      <td>0.002692</td>\n",
       "      <td>0.001974</td>\n",
       "      <td>0.001286</td>\n",
       "      <td>0.000923</td>\n",
       "      <td>0.000232</td>\n",
       "    </tr>\n",
       "  </tbody>\n",
       "</table>\n",
       "</div>"
      ],
      "text/plain": [
       "                          t1        t2        t3        t4        t5  \\\n",
       "dyffusion-fyxpjp65  0.098247  0.020488  0.007073  0.002692  0.001974   \n",
       "\n",
       "                          t6        t7        t8  \n",
       "dyffusion-fyxpjp65  0.001286  0.000923  0.000232  "
      ]
     },
     "execution_count": 13,
     "metadata": {},
     "output_type": "execute_result"
    }
   ],
   "source": [
    "df_csi18"
   ]
  },
  {
   "cell_type": "code",
   "execution_count": 14,
   "metadata": {},
   "outputs": [
    {
     "data": {
      "text/html": [
       "<div>\n",
       "<style scoped>\n",
       "    .dataframe tbody tr th:only-of-type {\n",
       "        vertical-align: middle;\n",
       "    }\n",
       "\n",
       "    .dataframe tbody tr th {\n",
       "        vertical-align: top;\n",
       "    }\n",
       "\n",
       "    .dataframe thead th {\n",
       "        text-align: right;\n",
       "    }\n",
       "</style>\n",
       "<table border=\"1\" class=\"dataframe\">\n",
       "  <thead>\n",
       "    <tr style=\"text-align: right;\">\n",
       "      <th></th>\n",
       "      <th>t1</th>\n",
       "      <th>t2</th>\n",
       "      <th>t3</th>\n",
       "      <th>t4</th>\n",
       "      <th>t5</th>\n",
       "      <th>t6</th>\n",
       "      <th>t7</th>\n",
       "      <th>t8</th>\n",
       "    </tr>\n",
       "  </thead>\n",
       "  <tbody>\n",
       "    <tr>\n",
       "      <th>dyffusion-fyxpjp65</th>\n",
       "      <td>0.129959</td>\n",
       "      <td>0.244934</td>\n",
       "      <td>0.304729</td>\n",
       "      <td>0.348849</td>\n",
       "      <td>0.373035</td>\n",
       "      <td>0.386031</td>\n",
       "      <td>0.39239</td>\n",
       "      <td>0.403022</td>\n",
       "    </tr>\n",
       "  </tbody>\n",
       "</table>\n",
       "</div>"
      ],
      "text/plain": [
       "                          t1        t2        t3        t4        t5  \\\n",
       "dyffusion-fyxpjp65  0.129959  0.244934  0.304729  0.348849  0.373035   \n",
       "\n",
       "                          t6       t7        t8  \n",
       "dyffusion-fyxpjp65  0.386031  0.39239  0.403022  "
      ]
     },
     "execution_count": 14,
     "metadata": {},
     "output_type": "execute_result"
    }
   ],
   "source": [
    "df_lpips"
   ]
  },
  {
   "cell_type": "markdown",
   "metadata": {},
   "source": [
    "### END OF SCRIPT."
   ]
  }
 ],
 "metadata": {
  "kernelspec": {
   "display_name": "irp_rain",
   "language": "python",
   "name": "python3"
  },
  "language_info": {
   "codemirror_mode": {
    "name": "ipython",
    "version": 3
   },
   "file_extension": ".py",
   "mimetype": "text/x-python",
   "name": "python",
   "nbconvert_exporter": "python",
   "pygments_lexer": "ipython3",
   "version": "3.11.9"
  }
 },
 "nbformat": 4,
 "nbformat_minor": 2
}
