{
 "cells": [
  {
   "cell_type": "markdown",
   "metadata": {},
   "source": [
    "## IMERG Data `Download`: Downloading IMERG data using `gpm-api` \n",
    "\n",
    "* The aim of this notebook is to download IMERG, EARLY-RUN, V07B (version 7) data using the `gpm-api`\n",
    "\n",
    "* There is a .py module that can be used, but due to the `verbose` setting offered by the api's `download()`, it's easier to debug in a notebook."
   ]
  },
  {
   "cell_type": "code",
   "execution_count": 1,
   "metadata": {},
   "outputs": [],
   "source": [
    "import datetime\n",
    "\n",
    "import gpm\n",
    "\n",
    "from rainnow.src.configs.config import DOWNLOAD_DIR, IMERGEarlyRunConfig"
   ]
  },
  {
   "cell_type": "code",
   "execution_count": 2,
   "metadata": {},
   "outputs": [],
   "source": [
    "# specify the time period.\n",
    "start_time = datetime.datetime.strptime(\"2020-01-01 00:00:00\", \"%Y-%m-%d %H:%M:%S\")\n",
    "end_time = datetime.datetime.strptime(\"2020-01-01 01:00:00\", \"%Y-%m-%d %H:%M:%S\")\n",
    "\n",
    "# imerg config.\n",
    "imerg_config = IMERGEarlyRunConfig()"
   ]
  },
  {
   "cell_type": "code",
   "execution_count": 3,
   "metadata": {},
   "outputs": [
    {
     "name": "stdout",
     "output_type": "stream",
     "text": [
      "** download DIR = /Volumes/external_disk_seal/data **\n",
      "\n",
      "The GPM-API config file has been updated successfully!\n"
     ]
    }
   ],
   "source": [
    "print(f\"** download DIR = {DOWNLOAD_DIR} **\\n\")\n",
    "gpm.define_configs(\n",
    "    username_pps=imerg_config.username,\n",
    "    password_pps=imerg_config.password,\n",
    "    base_dir=DOWNLOAD_DIR,\n",
    ")"
   ]
  },
  {
   "cell_type": "code",
   "execution_count": 5,
   "metadata": {},
   "outputs": [
    {
     "name": "stdout",
     "output_type": "stream",
     "text": [
      "All the available GPM IMERG-ER product files are already on disk.\n"
     ]
    },
    {
     "name": "stderr",
     "output_type": "stream",
     "text": [
      "/Users/ds423/miniconda3/envs/irp_rain/lib/python3.11/site-packages/gpm/io/find.py:213: GPMDownloadWarning: 'The last available version for IMERG-ER product is version 7! Starting the download of version 7.'\n",
      "  filepaths, available_version = _check_correct_version(\n"
     ]
    }
   ],
   "source": [
    "# - If ** force_download ** is True, it overwrite existing file on disk.\n",
    "# - If ** check_integrity ** is True, it checks that the downloaded data are not corrupted.\n",
    "\n",
    "gpm.download(\n",
    "    product=imerg_config.product,\n",
    "    product_type=imerg_config.product_type,\n",
    "    storage=imerg_config.download_from,\n",
    "    version=None,  # need to overwrite the imerg config as gpm-api doesn't currently handle v7.\n",
    "    # None gets the latest version.\n",
    "    start_time=start_time,\n",
    "    n_threads=12,\n",
    "    end_time=end_time,\n",
    "    force_download=False,\n",
    "    verbose=True,\n",
    "    progress_bar=True,\n",
    "    check_integrity=False,\n",
    ")"
   ]
  },
  {
   "cell_type": "markdown",
   "metadata": {},
   "source": [
    "### END OF SCRIPT."
   ]
  }
 ],
 "metadata": {
  "kernelspec": {
   "display_name": "irp_rain",
   "language": "python",
   "name": "python3"
  },
  "language_info": {
   "codemirror_mode": {
    "name": "ipython",
    "version": 3
   },
   "file_extension": ".py",
   "mimetype": "text/x-python",
   "name": "python",
   "nbconvert_exporter": "python",
   "pygments_lexer": "ipython3",
   "version": "3.11.9"
  }
 },
 "nbformat": 4,
 "nbformat_minor": 2
}
